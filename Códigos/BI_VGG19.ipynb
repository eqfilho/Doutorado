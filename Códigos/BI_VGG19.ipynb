{
 "cells": [
  {
   "cell_type": "markdown",
   "metadata": {
    "id": "view-in-github"
   },
   "source": [
    "<a href=\"https://colab.research.google.com/github/antoniodragoc/Projeto-de-Graduacao-Antonio-Drago-Caetano/blob/main/2_VGG19.ipynb\" target=\"_parent\"><img src=\"https://colab.research.google.com/assets/colab-badge.svg\" alt=\"Open In Colab\"/></a>"
   ]
  },
  {
   "cell_type": "code",
   "execution_count": 1,
   "metadata": {
    "executionInfo": {
     "elapsed": 4,
     "status": "ok",
     "timestamp": 1665109509158,
     "user": {
      "displayName": "Edmilson Queiroz",
      "userId": "09147851522619504428"
     },
     "user_tz": 180
    },
    "id": "BjjPrlamJQ7F"
   },
   "outputs": [],
   "source": [
    "import matplotlib.pyplot as plt\n",
    "import matplotlib.image as img\n",
    "import numpy as np\n",
    "\n",
    "from tensorflow import keras\n",
    "from tensorflow.keras import layers\n",
    "from keras.applications.vgg19 import VGG19\n",
    "from keras.preprocessing.image import ImageDataGenerator\n",
    "\n",
    "from keras.layers import Flatten\n",
    "from keras.models import Sequential\n",
    "from keras.layers import Activation, Dense, Dropout, Conv2D"
   ]
  },
  {
   "cell_type": "code",
   "execution_count": 3,
   "metadata": {
    "executionInfo": {
     "elapsed": 2,
     "status": "ok",
     "timestamp": 1665109926523,
     "user": {
      "displayName": "Edmilson Queiroz",
      "userId": "09147851522619504428"
     },
     "user_tz": 180
    },
    "id": "ozAFXMarm-1l"
   },
   "outputs": [],
   "source": [
    "# Caminhos de treino e validação\n",
    "\n",
    "# Obs - no diretório dados os dados estão separados em 75% treino 15% validação e 10% teste\n",
    "\n",
    "path_train = 'C:/Users/Administrador/Meu Drive/Doutorado/UFES-Elétrica/Implementação Jacques Facon K means/Códigos/Artigo/dados/train/'\n",
    "path_val = 'C:/Users/Administrador/Meu Drive/Doutorado/UFES-Elétrica/Implementação Jacques Facon K means/Códigos/Artigo/dados/val/'\n",
    "batch_size = 20\n"
   ]
  },
  {
   "cell_type": "code",
   "execution_count": 5,
   "metadata": {
    "executionInfo": {
     "elapsed": 429,
     "status": "ok",
     "timestamp": 1665109930714,
     "user": {
      "displayName": "Edmilson Queiroz",
      "userId": "09147851522619504428"
     },
     "user_tz": 180
    },
    "id": "DGB7a42fQnhe"
   },
   "outputs": [],
   "source": [
    "# Gerando os dados a partir das imagens\n",
    "train_datagen = ImageDataGenerator(    \n",
    "    rotation_range = 90,\n",
    "    vertical_flip = True,\n",
    "    horizontal_flip = True,\n",
    "    zoom_range=0.05,\n",
    "    width_shift_range=0.2,\n",
    "    height_shift_range=0.2,\n",
    "    fill_mode = 'reflect',\n",
    "    samplewise_center = True,\n",
    "    samplewise_std_normalization = True\n",
    "    )\n",
    "\n",
    "val_datagen = ImageDataGenerator(\n",
    "    samplewise_center = True,\n",
    "    samplewise_std_normalization = True\n",
    "    )\n",
    "\n",
    "\n",
    "test_datagen = ImageDataGenerator(\n",
    "    samplewise_center = True,\n",
    "    samplewise_std_normalization = True\n",
    "    )\n"
   ]
  },
  {
   "cell_type": "code",
   "execution_count": 6,
   "metadata": {
    "colab": {
     "base_uri": "https://localhost:8080/"
    },
    "executionInfo": {
     "elapsed": 2755,
     "status": "ok",
     "timestamp": 1665109940026,
     "user": {
      "displayName": "Edmilson Queiroz",
      "userId": "09147851522619504428"
     },
     "user_tz": 180
    },
    "id": "lueaFrKJm-yo",
    "outputId": "86478145-14e4-42a2-830b-ee1b49adbd72"
   },
   "outputs": [
    {
     "name": "stdout",
     "output_type": "stream",
     "text": [
      "Found 518 images belonging to 2 classes.\n",
      "Found 104 images belonging to 2 classes.\n"
     ]
    }
   ],
   "source": [
    "# dados de treino\n",
    "train_generator = train_datagen.flow_from_directory(\n",
    "    path_train,\n",
    "    target_size = (299, 299),\n",
    "    batch_size= batch_size,\n",
    "    shuffle=True,\n",
    "    class_mode='categorical' \n",
    ")\n",
    "\n",
    "#dados de validação\n",
    "val_generator = val_datagen.flow_from_directory(\n",
    "    path_val,\n",
    "    target_size = (299, 299),\n",
    "    batch_size= batch_size,  \n",
    "    shuffle=True,\n",
    "    class_mode='categorical'     \n",
    ")"
   ]
  },
  {
   "cell_type": "code",
   "execution_count": 7,
   "metadata": {
    "executionInfo": {
     "elapsed": 679,
     "status": "ok",
     "timestamp": 1665109946272,
     "user": {
      "displayName": "Edmilson Queiroz",
      "userId": "09147851522619504428"
     },
     "user_tz": 180
    },
    "id": "g5txLHv5FJsf"
   },
   "outputs": [],
   "source": [
    "y_true = train_generator.classes"
   ]
  },
  {
   "cell_type": "code",
   "execution_count": 9,
   "metadata": {
    "colab": {
     "base_uri": "https://localhost:8080/"
    },
    "executionInfo": {
     "elapsed": 429,
     "status": "ok",
     "timestamp": 1665109949988,
     "user": {
      "displayName": "Edmilson Queiroz",
      "userId": "09147851522619504428"
     },
     "user_tz": 180
    },
    "id": "4uZ9l5YCHdWs",
    "outputId": "c7f13b58-74c6-4b61-bb20-c56d0844fdc3"
   },
   "outputs": [
    {
     "data": {
      "text/plain": [
       "array([0, 0, 0, 0, 0, 0, 0, 0, 0, 0, 0, 0, 0, 0, 0, 0, 0, 0, 0, 0, 0, 0,\n",
       "       0, 0, 0, 0, 0, 0, 0, 0, 0, 0, 0, 0, 0, 0, 0, 0, 0, 0, 0, 0, 0, 0,\n",
       "       0, 0, 0, 0, 0, 0, 0, 0, 1, 1, 1, 1, 1, 1, 1, 1, 1, 1, 1, 1, 1, 1,\n",
       "       1, 1, 1, 1, 1, 1, 1, 1, 1, 1, 1, 1, 1, 1, 1, 1, 1, 1, 1, 1, 1, 1,\n",
       "       1, 1, 1, 1, 1, 1, 1, 1, 1, 1, 1, 1, 1, 1, 1, 1])"
      ]
     },
     "execution_count": 9,
     "metadata": {},
     "output_type": "execute_result"
    }
   ],
   "source": [
    "val_generator.classes"
   ]
  },
  {
   "cell_type": "code",
   "execution_count": 10,
   "metadata": {
    "colab": {
     "base_uri": "https://localhost:8080/"
    },
    "executionInfo": {
     "elapsed": 7689,
     "status": "ok",
     "timestamp": 1665109962436,
     "user": {
      "displayName": "Edmilson Queiroz",
      "userId": "09147851522619504428"
     },
     "user_tz": 180
    },
    "id": "L80ayz9l2H_c",
    "outputId": "83933b61-652c-4da1-cb41-7688963abc00"
   },
   "outputs": [
    {
     "name": "stdout",
     "output_type": "stream",
     "text": [
      "Model: \"vgg19\"\n",
      "_________________________________________________________________\n",
      " Layer (type)                Output Shape              Param #   \n",
      "=================================================================\n",
      " input_1 (InputLayer)        [(None, 224, 224, 3)]     0         \n",
      "                                                                 \n",
      " block1_conv1 (Conv2D)       (None, 224, 224, 64)      1792      \n",
      "                                                                 \n",
      " block1_conv2 (Conv2D)       (None, 224, 224, 64)      36928     \n",
      "                                                                 \n",
      " block1_pool (MaxPooling2D)  (None, 112, 112, 64)      0         \n",
      "                                                                 \n",
      " block2_conv1 (Conv2D)       (None, 112, 112, 128)     73856     \n",
      "                                                                 \n",
      " block2_conv2 (Conv2D)       (None, 112, 112, 128)     147584    \n",
      "                                                                 \n",
      " block2_pool (MaxPooling2D)  (None, 56, 56, 128)       0         \n",
      "                                                                 \n",
      " block3_conv1 (Conv2D)       (None, 56, 56, 256)       295168    \n",
      "                                                                 \n",
      " block3_conv2 (Conv2D)       (None, 56, 56, 256)       590080    \n",
      "                                                                 \n",
      " block3_conv3 (Conv2D)       (None, 56, 56, 256)       590080    \n",
      "                                                                 \n",
      " block3_conv4 (Conv2D)       (None, 56, 56, 256)       590080    \n",
      "                                                                 \n",
      " block3_pool (MaxPooling2D)  (None, 28, 28, 256)       0         \n",
      "                                                                 \n",
      " block4_conv1 (Conv2D)       (None, 28, 28, 512)       1180160   \n",
      "                                                                 \n",
      " block4_conv2 (Conv2D)       (None, 28, 28, 512)       2359808   \n",
      "                                                                 \n",
      " block4_conv3 (Conv2D)       (None, 28, 28, 512)       2359808   \n",
      "                                                                 \n",
      " block4_conv4 (Conv2D)       (None, 28, 28, 512)       2359808   \n",
      "                                                                 \n",
      " block4_pool (MaxPooling2D)  (None, 14, 14, 512)       0         \n",
      "                                                                 \n",
      " block5_conv1 (Conv2D)       (None, 14, 14, 512)       2359808   \n",
      "                                                                 \n",
      " block5_conv2 (Conv2D)       (None, 14, 14, 512)       2359808   \n",
      "                                                                 \n",
      " block5_conv3 (Conv2D)       (None, 14, 14, 512)       2359808   \n",
      "                                                                 \n",
      " block5_conv4 (Conv2D)       (None, 14, 14, 512)       2359808   \n",
      "                                                                 \n",
      " block5_pool (MaxPooling2D)  (None, 7, 7, 512)         0         \n",
      "                                                                 \n",
      " flatten (Flatten)           (None, 25088)             0         \n",
      "                                                                 \n",
      " fc1 (Dense)                 (None, 4096)              102764544 \n",
      "                                                                 \n",
      " fc2 (Dense)                 (None, 4096)              16781312  \n",
      "                                                                 \n",
      " predictions (Dense)         (None, 1000)              4097000   \n",
      "                                                                 \n",
      "=================================================================\n",
      "Total params: 143,667,240\n",
      "Trainable params: 143,667,240\n",
      "Non-trainable params: 0\n",
      "_________________________________________________________________\n"
     ]
    }
   ],
   "source": [
    "# Chamando a rede pré-treinada\n",
    "conv_model = VGG19(\n",
    "    weights='imagenet', \n",
    "    include_top=True, \n",
    "    )\n",
    "\n",
    "conv_model.summary()"
   ]
  },
  {
   "cell_type": "code",
   "execution_count": 11,
   "metadata": {
    "colab": {
     "base_uri": "https://localhost:8080/"
    },
    "executionInfo": {
     "elapsed": 1537,
     "status": "ok",
     "timestamp": 1665109982026,
     "user": {
      "displayName": "Edmilson Queiroz",
      "userId": "09147851522619504428"
     },
     "user_tz": 180
    },
    "id": "038vqfBClIv7",
    "outputId": "6f839c53-3fb5-46dd-a5ef-f33bc6fd8b4a"
   },
   "outputs": [
    {
     "name": "stdout",
     "output_type": "stream",
     "text": [
      "Model: \"model\"\n",
      "_________________________________________________________________\n",
      " Layer (type)                Output Shape              Param #   \n",
      "=================================================================\n",
      " input_2 (InputLayer)        [(None, 299, 299, 3)]     0         \n",
      "                                                                 \n",
      " block1_conv1 (Conv2D)       (None, 299, 299, 64)      1792      \n",
      "                                                                 \n",
      " block1_conv2 (Conv2D)       (None, 299, 299, 64)      36928     \n",
      "                                                                 \n",
      " block1_pool (MaxPooling2D)  (None, 149, 149, 64)      0         \n",
      "                                                                 \n",
      " block2_conv1 (Conv2D)       (None, 149, 149, 128)     73856     \n",
      "                                                                 \n",
      " block2_conv2 (Conv2D)       (None, 149, 149, 128)     147584    \n",
      "                                                                 \n",
      " block2_pool (MaxPooling2D)  (None, 74, 74, 128)       0         \n",
      "                                                                 \n",
      " block3_conv1 (Conv2D)       (None, 74, 74, 256)       295168    \n",
      "                                                                 \n",
      " block3_conv2 (Conv2D)       (None, 74, 74, 256)       590080    \n",
      "                                                                 \n",
      " block3_conv3 (Conv2D)       (None, 74, 74, 256)       590080    \n",
      "                                                                 \n",
      " block3_conv4 (Conv2D)       (None, 74, 74, 256)       590080    \n",
      "                                                                 \n",
      " block3_pool (MaxPooling2D)  (None, 37, 37, 256)       0         \n",
      "                                                                 \n",
      " block4_conv1 (Conv2D)       (None, 37, 37, 512)       1180160   \n",
      "                                                                 \n",
      " block4_conv2 (Conv2D)       (None, 37, 37, 512)       2359808   \n",
      "                                                                 \n",
      " block4_conv3 (Conv2D)       (None, 37, 37, 512)       2359808   \n",
      "                                                                 \n",
      " block4_conv4 (Conv2D)       (None, 37, 37, 512)       2359808   \n",
      "                                                                 \n",
      " block4_pool (MaxPooling2D)  (None, 18, 18, 512)       0         \n",
      "                                                                 \n",
      " block5_conv1 (Conv2D)       (None, 18, 18, 512)       2359808   \n",
      "                                                                 \n",
      " block5_conv2 (Conv2D)       (None, 18, 18, 512)       2359808   \n",
      "                                                                 \n",
      " block5_conv3 (Conv2D)       (None, 18, 18, 512)       2359808   \n",
      "                                                                 \n",
      " block5_conv4 (Conv2D)       (None, 18, 18, 512)       2359808   \n",
      "                                                                 \n",
      " block5_pool (MaxPooling2D)  (None, 9, 9, 512)         0         \n",
      "                                                                 \n",
      " flatten (Flatten)           (None, 41472)             0         \n",
      "                                                                 \n",
      " dropout (Dropout)           (None, 41472)             0         \n",
      "                                                                 \n",
      " dense (Dense)               (None, 128)               5308544   \n",
      "                                                                 \n",
      " dense_1 (Dense)             (None, 64)                8256      \n",
      "                                                                 \n",
      " dense_2 (Dense)             (None, 2)                 130       \n",
      "                                                                 \n",
      "=================================================================\n",
      "Total params: 25,341,314\n",
      "Trainable params: 7,676,738\n",
      "Non-trainable params: 17,664,576\n",
      "_________________________________________________________________\n"
     ]
    }
   ],
   "source": [
    "# Chamando a rede pré-treinada\n",
    "conv_model = VGG19(\n",
    "    weights='imagenet', \n",
    "    include_top=False, \n",
    "    input_shape=(299,299,3))\n",
    "\n",
    "first_freeze_layers = 20 #number of the first layers to freeze\n",
    "for layer in conv_model.layers[0:first_freeze_layers]:\n",
    "    layer.trainable = False\n",
    "\n",
    "teste = keras.layers.Flatten()(conv_model.output)\n",
    "\n",
    "# three hidden layers\n",
    "teste = keras.layers.Dropout(0.4)(teste)\n",
    "teste = keras.layers.Dense(128, activation='relu')(teste)\n",
    "teste = keras.layers.Dense(64, activation='relu')(teste)\n",
    "\n",
    "# final softmax layer with two categories\n",
    "predictions = keras.layers.Dense(2, activation='softmax')(teste)\n",
    "\n",
    "# creating the full model:\n",
    "full_model = keras.models.Model(inputs=conv_model.input, outputs=predictions)\n",
    "\n",
    "full_model.summary()"
   ]
  },
  {
   "cell_type": "code",
   "execution_count": 12,
   "metadata": {
    "executionInfo": {
     "elapsed": 430,
     "status": "ok",
     "timestamp": 1665109988327,
     "user": {
      "displayName": "Edmilson Queiroz",
      "userId": "09147851522619504428"
     },
     "user_tz": 180
    },
    "id": "j9-W-go7fjRZ"
   },
   "outputs": [],
   "source": [
    "#EARLY STOPPING ADICIONADO\n",
    "# https://machinelearningmastery.com/how-to-stop-training-deep-neural-networks-at-the-right-time-using-early-stopping/\n",
    "callback = keras.callbacks.EarlyStopping(\n",
    "    monitor=\"val_loss\",\n",
    "    min_delta=0,\n",
    "    patience=100,\n",
    "    verbose=0,\n",
    "    mode=\"min\",\n",
    "    baseline=None,\n",
    "    restore_best_weights=True\n",
    ")\n",
    "\n",
    "lr_schedule = keras.optimizers.schedules.CosineDecayRestarts(\n",
    "    initial_learning_rate = 0.001, \n",
    "    first_decay_steps = 500, \n",
    "    t_mul=2.4, \n",
    "    m_mul=1.3, \n",
    "    alpha=0.001, \n",
    "    name=None\n",
    ")"
   ]
  },
  {
   "cell_type": "code",
   "execution_count": 13,
   "metadata": {
    "colab": {
     "base_uri": "https://localhost:8080/",
     "height": 1000
    },
    "executionInfo": {
     "elapsed": 45870,
     "status": "error",
     "timestamp": 1665110056079,
     "user": {
      "displayName": "Edmilson Queiroz",
      "userId": "09147851522619504428"
     },
     "user_tz": 180
    },
    "id": "S2lTTOJcIZ0f",
    "outputId": "9836b916-ee1a-4376-e085-a98fc947f4f0",
    "scrolled": true
   },
   "outputs": [
    {
     "name": "stdout",
     "output_type": "stream",
     "text": [
      "Epoch 1/200\n",
      "26/26 [==============================] - 194s 7s/step - loss: 0.7300 - accuracy: 0.5290 - val_loss: 0.6598 - val_accuracy: 0.5481\n",
      "Epoch 2/200\n",
      "26/26 [==============================] - 188s 7s/step - loss: 0.6994 - accuracy: 0.5425 - val_loss: 0.6527 - val_accuracy: 0.6923\n",
      "Epoch 3/200\n",
      "26/26 [==============================] - 186s 7s/step - loss: 0.6916 - accuracy: 0.5463 - val_loss: 0.6371 - val_accuracy: 0.7115\n",
      "Epoch 4/200\n",
      "26/26 [==============================] - 183s 7s/step - loss: 0.6865 - accuracy: 0.5714 - val_loss: 0.6179 - val_accuracy: 0.7885\n",
      "Epoch 5/200\n",
      "26/26 [==============================] - 183s 7s/step - loss: 0.6768 - accuracy: 0.5830 - val_loss: 0.6364 - val_accuracy: 0.6635\n",
      "Epoch 6/200\n",
      "26/26 [==============================] - 11732s 469s/step - loss: 0.6804 - accuracy: 0.5811 - val_loss: 0.6225 - val_accuracy: 0.7404\n",
      "Epoch 7/200\n",
      "26/26 [==============================] - 195s 8s/step - loss: 0.6686 - accuracy: 0.5869 - val_loss: 0.5729 - val_accuracy: 0.7788\n",
      "Epoch 8/200\n",
      "26/26 [==============================] - 190s 7s/step - loss: 0.6618 - accuracy: 0.5985 - val_loss: 0.5965 - val_accuracy: 0.7308\n",
      "Epoch 9/200\n",
      "26/26 [==============================] - 188s 7s/step - loss: 0.6628 - accuracy: 0.5869 - val_loss: 0.5867 - val_accuracy: 0.8269\n",
      "Epoch 10/200\n",
      "26/26 [==============================] - 184s 7s/step - loss: 0.6628 - accuracy: 0.5985 - val_loss: 0.5876 - val_accuracy: 0.7500\n",
      "Epoch 11/200\n",
      "26/26 [==============================] - 187s 7s/step - loss: 0.6596 - accuracy: 0.6100 - val_loss: 0.5791 - val_accuracy: 0.8077\n",
      "Epoch 12/200\n",
      "26/26 [==============================] - 184s 7s/step - loss: 0.6498 - accuracy: 0.6081 - val_loss: 0.5705 - val_accuracy: 0.8269\n",
      "Epoch 13/200\n",
      "26/26 [==============================] - 186s 7s/step - loss: 0.6390 - accuracy: 0.6293 - val_loss: 0.5760 - val_accuracy: 0.7404\n",
      "Epoch 14/200\n",
      "26/26 [==============================] - 183s 7s/step - loss: 0.6335 - accuracy: 0.6236 - val_loss: 0.5489 - val_accuracy: 0.8173\n",
      "Epoch 15/200\n",
      "26/26 [==============================] - 188s 7s/step - loss: 0.6379 - accuracy: 0.6274 - val_loss: 0.5511 - val_accuracy: 0.8173\n",
      "Epoch 16/200\n",
      "26/26 [==============================] - 187s 7s/step - loss: 0.6507 - accuracy: 0.6120 - val_loss: 0.5485 - val_accuracy: 0.8269\n",
      "Epoch 17/200\n",
      "26/26 [==============================] - 190s 7s/step - loss: 0.6413 - accuracy: 0.6255 - val_loss: 0.5474 - val_accuracy: 0.8077\n",
      "Epoch 18/200\n",
      "26/26 [==============================] - 190s 7s/step - loss: 0.6358 - accuracy: 0.6390 - val_loss: 0.5465 - val_accuracy: 0.8173\n",
      "Epoch 19/200\n",
      "26/26 [==============================] - 186s 7s/step - loss: 0.6422 - accuracy: 0.6216 - val_loss: 0.5462 - val_accuracy: 0.8173\n",
      "Epoch 20/200\n",
      "26/26 [==============================] - 187s 7s/step - loss: 0.6491 - accuracy: 0.6274 - val_loss: 0.5729 - val_accuracy: 0.6923\n",
      "Epoch 21/200\n",
      "26/26 [==============================] - 185s 7s/step - loss: 0.6408 - accuracy: 0.6313 - val_loss: 0.5683 - val_accuracy: 0.7885\n",
      "Epoch 22/200\n",
      "26/26 [==============================] - 184s 7s/step - loss: 0.6689 - accuracy: 0.5869 - val_loss: 0.5747 - val_accuracy: 0.8269\n",
      "Epoch 23/200\n",
      "26/26 [==============================] - 182s 7s/step - loss: 0.6682 - accuracy: 0.5946 - val_loss: 0.6069 - val_accuracy: 0.6923\n",
      "Epoch 24/200\n",
      "26/26 [==============================] - 183s 7s/step - loss: 0.6367 - accuracy: 0.6274 - val_loss: 0.5490 - val_accuracy: 0.7308\n",
      "Epoch 25/200\n",
      "26/26 [==============================] - 182s 7s/step - loss: 0.6490 - accuracy: 0.6255 - val_loss: 0.5735 - val_accuracy: 0.6923\n",
      "Epoch 26/200\n",
      "26/26 [==============================] - 182s 7s/step - loss: 0.6019 - accuracy: 0.6641 - val_loss: 0.5065 - val_accuracy: 0.8077\n",
      "Epoch 27/200\n",
      "26/26 [==============================] - 183s 7s/step - loss: 0.6523 - accuracy: 0.6216 - val_loss: 0.5557 - val_accuracy: 0.6923\n",
      "Epoch 28/200\n",
      "26/26 [==============================] - 181s 7s/step - loss: 0.6288 - accuracy: 0.6486 - val_loss: 0.5535 - val_accuracy: 0.7019\n",
      "Epoch 29/200\n",
      "26/26 [==============================] - 181s 7s/step - loss: 0.6087 - accuracy: 0.6583 - val_loss: 0.5134 - val_accuracy: 0.8077\n",
      "Epoch 30/200\n",
      "26/26 [==============================] - 182s 7s/step - loss: 0.6008 - accuracy: 0.6834 - val_loss: 0.5811 - val_accuracy: 0.6154\n",
      "Epoch 31/200\n",
      "26/26 [==============================] - 181s 7s/step - loss: 0.6068 - accuracy: 0.6699 - val_loss: 0.4959 - val_accuracy: 0.7596\n",
      "Epoch 32/200\n",
      "26/26 [==============================] - 181s 7s/step - loss: 0.6164 - accuracy: 0.6911 - val_loss: 0.4975 - val_accuracy: 0.7788\n",
      "Epoch 33/200\n",
      "26/26 [==============================] - 181s 7s/step - loss: 0.5990 - accuracy: 0.6660 - val_loss: 0.4890 - val_accuracy: 0.7692\n",
      "Epoch 34/200\n",
      "26/26 [==============================] - 181s 7s/step - loss: 0.5969 - accuracy: 0.6969 - val_loss: 0.4956 - val_accuracy: 0.7308\n",
      "Epoch 35/200\n",
      "26/26 [==============================] - 183s 7s/step - loss: 0.5913 - accuracy: 0.6776 - val_loss: 0.5203 - val_accuracy: 0.7308\n",
      "Epoch 36/200\n",
      "26/26 [==============================] - 181s 7s/step - loss: 0.6063 - accuracy: 0.6699 - val_loss: 0.4973 - val_accuracy: 0.7692\n",
      "Epoch 37/200\n",
      "26/26 [==============================] - 181s 7s/step - loss: 0.5757 - accuracy: 0.6969 - val_loss: 0.5141 - val_accuracy: 0.7500\n",
      "Epoch 38/200\n",
      "26/26 [==============================] - 183s 7s/step - loss: 0.5906 - accuracy: 0.6680 - val_loss: 0.5507 - val_accuracy: 0.6923\n",
      "Epoch 39/200\n",
      "26/26 [==============================] - 183s 7s/step - loss: 0.5778 - accuracy: 0.7027 - val_loss: 0.5046 - val_accuracy: 0.7500\n",
      "Epoch 40/200\n",
      "26/26 [==============================] - 182s 7s/step - loss: 0.5691 - accuracy: 0.7008 - val_loss: 0.5020 - val_accuracy: 0.8077\n",
      "Epoch 41/200\n",
      "26/26 [==============================] - 182s 7s/step - loss: 0.5712 - accuracy: 0.7085 - val_loss: 0.5043 - val_accuracy: 0.7500\n",
      "Epoch 42/200\n",
      "26/26 [==============================] - 183s 7s/step - loss: 0.5742 - accuracy: 0.6853 - val_loss: 0.4951 - val_accuracy: 0.7692\n",
      "Epoch 43/200\n",
      "26/26 [==============================] - 181s 7s/step - loss: 0.5614 - accuracy: 0.7124 - val_loss: 0.4828 - val_accuracy: 0.7596\n",
      "Epoch 44/200\n",
      "26/26 [==============================] - 181s 7s/step - loss: 0.5586 - accuracy: 0.7143 - val_loss: 0.5078 - val_accuracy: 0.7404\n",
      "Epoch 45/200\n",
      "26/26 [==============================] - 181s 7s/step - loss: 0.5682 - accuracy: 0.7008 - val_loss: 0.4945 - val_accuracy: 0.7885\n",
      "Epoch 46/200\n",
      "26/26 [==============================] - 181s 7s/step - loss: 0.5814 - accuracy: 0.6757 - val_loss: 0.4714 - val_accuracy: 0.7692\n",
      "Epoch 47/200\n",
      "26/26 [==============================] - 181s 7s/step - loss: 0.5596 - accuracy: 0.6931 - val_loss: 0.5498 - val_accuracy: 0.7115\n",
      "Epoch 48/200\n",
      "26/26 [==============================] - 181s 7s/step - loss: 0.5529 - accuracy: 0.7181 - val_loss: 0.4742 - val_accuracy: 0.7692\n",
      "Epoch 49/200\n",
      "26/26 [==============================] - 181s 7s/step - loss: 0.5590 - accuracy: 0.7008 - val_loss: 0.4924 - val_accuracy: 0.7692\n",
      "Epoch 50/200\n",
      "26/26 [==============================] - 181s 7s/step - loss: 0.5476 - accuracy: 0.7104 - val_loss: 0.4722 - val_accuracy: 0.7692\n",
      "Epoch 51/200\n",
      "26/26 [==============================] - 181s 7s/step - loss: 0.5378 - accuracy: 0.7239 - val_loss: 0.4816 - val_accuracy: 0.7692\n",
      "Epoch 52/200\n",
      "26/26 [==============================] - 182s 7s/step - loss: 0.5590 - accuracy: 0.6931 - val_loss: 0.4716 - val_accuracy: 0.7692\n",
      "Epoch 53/200\n",
      "26/26 [==============================] - 181s 7s/step - loss: 0.5320 - accuracy: 0.7336 - val_loss: 0.4796 - val_accuracy: 0.7788\n",
      "Epoch 54/200\n",
      "26/26 [==============================] - 182s 7s/step - loss: 0.5535 - accuracy: 0.7143 - val_loss: 0.4719 - val_accuracy: 0.7692\n",
      "Epoch 55/200\n",
      "26/26 [==============================] - 181s 7s/step - loss: 0.5428 - accuracy: 0.7220 - val_loss: 0.4877 - val_accuracy: 0.7788\n",
      "Epoch 56/200\n",
      "26/26 [==============================] - 181s 7s/step - loss: 0.5595 - accuracy: 0.7046 - val_loss: 0.4740 - val_accuracy: 0.7596\n",
      "Epoch 57/200\n",
      "26/26 [==============================] - 183s 7s/step - loss: 0.5180 - accuracy: 0.7432 - val_loss: 0.4746 - val_accuracy: 0.7596\n",
      "Epoch 58/200\n"
     ]
    },
    {
     "name": "stdout",
     "output_type": "stream",
     "text": [
      "26/26 [==============================] - 181s 7s/step - loss: 0.5362 - accuracy: 0.7452 - val_loss: 0.4698 - val_accuracy: 0.7692\n",
      "Epoch 59/200\n",
      "26/26 [==============================] - 181s 7s/step - loss: 0.5445 - accuracy: 0.7066 - val_loss: 0.4699 - val_accuracy: 0.7692\n",
      "Epoch 60/200\n",
      "26/26 [==============================] - 182s 7s/step - loss: 0.5423 - accuracy: 0.7355 - val_loss: 0.4710 - val_accuracy: 0.7692\n",
      "Epoch 61/200\n",
      "26/26 [==============================] - 181s 7s/step - loss: 0.5261 - accuracy: 0.7413 - val_loss: 0.4727 - val_accuracy: 0.7596\n",
      "Epoch 62/200\n",
      "26/26 [==============================] - 181s 7s/step - loss: 0.5320 - accuracy: 0.7375 - val_loss: 0.4715 - val_accuracy: 0.7692\n",
      "Epoch 63/200\n",
      "26/26 [==============================] - 181s 7s/step - loss: 0.5415 - accuracy: 0.7143 - val_loss: 0.4711 - val_accuracy: 0.7692\n",
      "Epoch 64/200\n",
      "26/26 [==============================] - 180s 7s/step - loss: 0.5414 - accuracy: 0.7181 - val_loss: 0.4712 - val_accuracy: 0.7692\n",
      "Epoch 65/200\n",
      "26/26 [==============================] - 177s 7s/step - loss: 0.5430 - accuracy: 0.7336 - val_loss: 0.4712 - val_accuracy: 0.7692\n",
      "Epoch 66/200\n",
      "26/26 [==============================] - 178s 7s/step - loss: 0.5515 - accuracy: 0.6969 - val_loss: 0.4738 - val_accuracy: 0.7596\n",
      "Epoch 67/200\n",
      "26/26 [==============================] - 178s 7s/step - loss: 0.6399 - accuracy: 0.6467 - val_loss: 0.5204 - val_accuracy: 0.7404\n",
      "Epoch 68/200\n",
      "26/26 [==============================] - 177s 7s/step - loss: 0.5699 - accuracy: 0.7201 - val_loss: 0.5590 - val_accuracy: 0.6923\n",
      "Epoch 69/200\n",
      "26/26 [==============================] - 178s 7s/step - loss: 0.5864 - accuracy: 0.6931 - val_loss: 0.4910 - val_accuracy: 0.7500\n",
      "Epoch 70/200\n",
      "26/26 [==============================] - 182s 7s/step - loss: 0.5814 - accuracy: 0.6737 - val_loss: 0.5678 - val_accuracy: 0.6635\n",
      "Epoch 71/200\n",
      "26/26 [==============================] - 181s 7s/step - loss: 0.5595 - accuracy: 0.7124 - val_loss: 0.4973 - val_accuracy: 0.7788\n",
      "Epoch 72/200\n",
      "26/26 [==============================] - 181s 7s/step - loss: 0.5457 - accuracy: 0.7239 - val_loss: 0.5124 - val_accuracy: 0.7692\n",
      "Epoch 73/200\n",
      "26/26 [==============================] - 180s 7s/step - loss: 0.5960 - accuracy: 0.6795 - val_loss: 0.4984 - val_accuracy: 0.7596\n",
      "Epoch 74/200\n",
      "26/26 [==============================] - 181s 7s/step - loss: 0.5401 - accuracy: 0.7336 - val_loss: 0.4978 - val_accuracy: 0.7500\n",
      "Epoch 75/200\n",
      "26/26 [==============================] - 180s 7s/step - loss: 0.5814 - accuracy: 0.7085 - val_loss: 0.6233 - val_accuracy: 0.6346\n",
      "Epoch 76/200\n",
      "26/26 [==============================] - 181s 7s/step - loss: 0.5644 - accuracy: 0.7201 - val_loss: 0.4857 - val_accuracy: 0.7596\n",
      "Epoch 77/200\n",
      "26/26 [==============================] - 181s 7s/step - loss: 0.5456 - accuracy: 0.7181 - val_loss: 0.4806 - val_accuracy: 0.7788\n",
      "Epoch 78/200\n",
      "26/26 [==============================] - 181s 7s/step - loss: 0.5361 - accuracy: 0.7355 - val_loss: 0.4731 - val_accuracy: 0.7500\n",
      "Epoch 79/200\n",
      "26/26 [==============================] - 181s 7s/step - loss: 0.5445 - accuracy: 0.7124 - val_loss: 0.5163 - val_accuracy: 0.7308\n",
      "Epoch 80/200\n",
      "26/26 [==============================] - 180s 7s/step - loss: 0.5361 - accuracy: 0.7239 - val_loss: 0.5566 - val_accuracy: 0.7019\n",
      "Epoch 81/200\n",
      "26/26 [==============================] - 179s 7s/step - loss: 0.5208 - accuracy: 0.7317 - val_loss: 0.5494 - val_accuracy: 0.6923\n",
      "Epoch 82/200\n",
      "26/26 [==============================] - 177s 7s/step - loss: 0.5143 - accuracy: 0.7413 - val_loss: 0.4860 - val_accuracy: 0.7692\n",
      "Epoch 83/200\n",
      "26/26 [==============================] - 177s 7s/step - loss: 0.5415 - accuracy: 0.7355 - val_loss: 0.4947 - val_accuracy: 0.7692\n",
      "Epoch 84/200\n",
      "26/26 [==============================] - 180s 7s/step - loss: 0.5588 - accuracy: 0.6950 - val_loss: 0.5043 - val_accuracy: 0.7596\n",
      "Epoch 85/200\n",
      "26/26 [==============================] - 181s 7s/step - loss: 0.5292 - accuracy: 0.7220 - val_loss: 0.5145 - val_accuracy: 0.7308\n",
      "Epoch 86/200\n",
      "26/26 [==============================] - 180s 7s/step - loss: 0.5047 - accuracy: 0.7645 - val_loss: 0.4812 - val_accuracy: 0.7500\n",
      "Epoch 87/200\n",
      "26/26 [==============================] - 181s 7s/step - loss: 0.5213 - accuracy: 0.7355 - val_loss: 0.4836 - val_accuracy: 0.7692\n",
      "Epoch 88/200\n",
      "26/26 [==============================] - 177s 7s/step - loss: 0.5257 - accuracy: 0.7394 - val_loss: 0.4860 - val_accuracy: 0.7596\n",
      "Epoch 89/200\n",
      "26/26 [==============================] - 178s 7s/step - loss: 0.5160 - accuracy: 0.7471 - val_loss: 0.4921 - val_accuracy: 0.7596\n",
      "Epoch 90/200\n",
      "26/26 [==============================] - 178s 7s/step - loss: 0.5282 - accuracy: 0.7568 - val_loss: 0.4879 - val_accuracy: 0.7596\n",
      "Epoch 91/200\n",
      "26/26 [==============================] - 179s 7s/step - loss: 0.5105 - accuracy: 0.7239 - val_loss: 0.4834 - val_accuracy: 0.7788\n",
      "Epoch 92/200\n",
      "26/26 [==============================] - 178s 7s/step - loss: 0.5080 - accuracy: 0.7664 - val_loss: 0.4797 - val_accuracy: 0.7692\n",
      "Epoch 93/200\n",
      "26/26 [==============================] - 178s 7s/step - loss: 0.5420 - accuracy: 0.7181 - val_loss: 0.4785 - val_accuracy: 0.7788\n",
      "Epoch 94/200\n",
      "26/26 [==============================] - 178s 7s/step - loss: 0.5239 - accuracy: 0.7259 - val_loss: 0.4849 - val_accuracy: 0.7981\n",
      "Epoch 95/200\n",
      "26/26 [==============================] - 178s 7s/step - loss: 0.5207 - accuracy: 0.7394 - val_loss: 0.5774 - val_accuracy: 0.6827\n",
      "Epoch 96/200\n",
      "26/26 [==============================] - 178s 7s/step - loss: 0.5055 - accuracy: 0.7471 - val_loss: 0.4991 - val_accuracy: 0.7500\n",
      "Epoch 97/200\n",
      "26/26 [==============================] - 183s 7s/step - loss: 0.5177 - accuracy: 0.7278 - val_loss: 0.5001 - val_accuracy: 0.7404\n",
      "Epoch 98/200\n",
      "26/26 [==============================] - 182s 7s/step - loss: 0.5166 - accuracy: 0.7529 - val_loss: 0.4760 - val_accuracy: 0.7788\n",
      "Epoch 99/200\n",
      "26/26 [==============================] - 181s 7s/step - loss: 0.5209 - accuracy: 0.7239 - val_loss: 0.4693 - val_accuracy: 0.7885\n",
      "Epoch 100/200\n",
      "26/26 [==============================] - 181s 7s/step - loss: 0.5062 - accuracy: 0.7625 - val_loss: 0.4680 - val_accuracy: 0.7788\n",
      "Epoch 101/200\n",
      "26/26 [==============================] - 181s 7s/step - loss: 0.4988 - accuracy: 0.7529 - val_loss: 0.5676 - val_accuracy: 0.6731\n",
      "Epoch 102/200\n",
      "26/26 [==============================] - 183s 7s/step - loss: 0.5153 - accuracy: 0.7510 - val_loss: 0.4661 - val_accuracy: 0.7788\n",
      "Epoch 103/200\n",
      "26/26 [==============================] - 182s 7s/step - loss: 0.5051 - accuracy: 0.7490 - val_loss: 0.5502 - val_accuracy: 0.7115\n",
      "Epoch 104/200\n",
      "26/26 [==============================] - 181s 7s/step - loss: 0.5180 - accuracy: 0.7336 - val_loss: 0.4690 - val_accuracy: 0.7885\n",
      "Epoch 105/200\n",
      "26/26 [==============================] - 181s 7s/step - loss: 0.4960 - accuracy: 0.7625 - val_loss: 0.4692 - val_accuracy: 0.7788\n",
      "Epoch 106/200\n",
      "26/26 [==============================] - 181s 7s/step - loss: 0.5042 - accuracy: 0.7606 - val_loss: 0.4709 - val_accuracy: 0.7788\n",
      "Epoch 107/200\n",
      "26/26 [==============================] - 180s 7s/step - loss: 0.4930 - accuracy: 0.7587 - val_loss: 0.4758 - val_accuracy: 0.7788\n",
      "Epoch 108/200\n",
      "26/26 [==============================] - 179s 7s/step - loss: 0.5237 - accuracy: 0.7297 - val_loss: 0.6034 - val_accuracy: 0.6827\n",
      "Epoch 109/200\n",
      "26/26 [==============================] - 178s 7s/step - loss: 0.5170 - accuracy: 0.7375 - val_loss: 0.4685 - val_accuracy: 0.7788\n",
      "Epoch 110/200\n",
      "26/26 [==============================] - 179s 7s/step - loss: 0.4655 - accuracy: 0.7934 - val_loss: 0.4655 - val_accuracy: 0.8077\n",
      "Epoch 111/200\n",
      "26/26 [==============================] - 178s 7s/step - loss: 0.5010 - accuracy: 0.7722 - val_loss: 0.4873 - val_accuracy: 0.7500\n",
      "Epoch 112/200\n",
      "26/26 [==============================] - 179s 7s/step - loss: 0.4828 - accuracy: 0.7799 - val_loss: 0.4793 - val_accuracy: 0.7596\n",
      "Epoch 113/200\n",
      "26/26 [==============================] - 178s 7s/step - loss: 0.4842 - accuracy: 0.7606 - val_loss: 0.4725 - val_accuracy: 0.8077\n",
      "Epoch 114/200\n",
      "26/26 [==============================] - 179s 7s/step - loss: 0.4920 - accuracy: 0.7722 - val_loss: 0.4968 - val_accuracy: 0.7115\n",
      "Epoch 115/200\n"
     ]
    },
    {
     "name": "stdout",
     "output_type": "stream",
     "text": [
      "26/26 [==============================] - 180s 7s/step - loss: 0.4768 - accuracy: 0.7683 - val_loss: 0.5098 - val_accuracy: 0.7212\n",
      "Epoch 116/200\n",
      "26/26 [==============================] - 178s 7s/step - loss: 0.4989 - accuracy: 0.7683 - val_loss: 0.4810 - val_accuracy: 0.7500\n",
      "Epoch 117/200\n",
      "26/26 [==============================] - 178s 7s/step - loss: 0.4869 - accuracy: 0.7722 - val_loss: 0.4713 - val_accuracy: 0.8077\n",
      "Epoch 118/200\n",
      "26/26 [==============================] - 178s 7s/step - loss: 0.4794 - accuracy: 0.7683 - val_loss: 0.5279 - val_accuracy: 0.7115\n",
      "Epoch 119/200\n",
      "26/26 [==============================] - 178s 7s/step - loss: 0.4890 - accuracy: 0.7645 - val_loss: 0.4800 - val_accuracy: 0.7596\n",
      "Epoch 120/200\n",
      "26/26 [==============================] - 178s 7s/step - loss: 0.4805 - accuracy: 0.7606 - val_loss: 0.4779 - val_accuracy: 0.7500\n",
      "Epoch 121/200\n",
      "26/26 [==============================] - 183s 7s/step - loss: 0.4775 - accuracy: 0.7490 - val_loss: 0.4707 - val_accuracy: 0.7596\n",
      "Epoch 122/200\n",
      "26/26 [==============================] - 181s 7s/step - loss: 0.4527 - accuracy: 0.7876 - val_loss: 0.5295 - val_accuracy: 0.7019\n",
      "Epoch 123/200\n",
      "26/26 [==============================] - 182s 7s/step - loss: 0.4732 - accuracy: 0.7992 - val_loss: 0.4621 - val_accuracy: 0.7885\n",
      "Epoch 124/200\n",
      "26/26 [==============================] - 181s 7s/step - loss: 0.4624 - accuracy: 0.7799 - val_loss: 0.5183 - val_accuracy: 0.7115\n",
      "Epoch 125/200\n",
      "26/26 [==============================] - 181s 7s/step - loss: 0.4860 - accuracy: 0.7857 - val_loss: 0.4605 - val_accuracy: 0.7788\n",
      "Epoch 126/200\n",
      "26/26 [==============================] - 181s 7s/step - loss: 0.4610 - accuracy: 0.7799 - val_loss: 0.4792 - val_accuracy: 0.7500\n",
      "Epoch 127/200\n",
      "26/26 [==============================] - 183s 7s/step - loss: 0.4817 - accuracy: 0.7625 - val_loss: 0.4975 - val_accuracy: 0.7404\n",
      "Epoch 128/200\n",
      "26/26 [==============================] - 181s 7s/step - loss: 0.4730 - accuracy: 0.7587 - val_loss: 0.4568 - val_accuracy: 0.7885\n",
      "Epoch 129/200\n",
      "26/26 [==============================] - 181s 7s/step - loss: 0.4911 - accuracy: 0.7799 - val_loss: 0.4786 - val_accuracy: 0.7404\n",
      "Epoch 130/200\n",
      "26/26 [==============================] - 181s 7s/step - loss: 0.4756 - accuracy: 0.7876 - val_loss: 0.4672 - val_accuracy: 0.7500\n",
      "Epoch 131/200\n",
      "26/26 [==============================] - 181s 7s/step - loss: 0.4572 - accuracy: 0.7819 - val_loss: 0.4742 - val_accuracy: 0.7500\n",
      "Epoch 132/200\n",
      "26/26 [==============================] - 181s 7s/step - loss: 0.4666 - accuracy: 0.7838 - val_loss: 0.4701 - val_accuracy: 0.7692\n",
      "Epoch 133/200\n",
      "26/26 [==============================] - 181s 7s/step - loss: 0.4516 - accuracy: 0.7896 - val_loss: 0.4753 - val_accuracy: 0.7500\n",
      "Epoch 134/200\n",
      "26/26 [==============================] - 181s 7s/step - loss: 0.4607 - accuracy: 0.7876 - val_loss: 0.4666 - val_accuracy: 0.7788\n",
      "Epoch 135/200\n",
      "26/26 [==============================] - 181s 7s/step - loss: 0.4725 - accuracy: 0.7703 - val_loss: 0.4711 - val_accuracy: 0.7500\n",
      "Epoch 136/200\n",
      "26/26 [==============================] - 181s 7s/step - loss: 0.4614 - accuracy: 0.7761 - val_loss: 0.4833 - val_accuracy: 0.7404\n",
      "Epoch 137/200\n",
      "26/26 [==============================] - 181s 7s/step - loss: 0.4696 - accuracy: 0.7703 - val_loss: 0.4931 - val_accuracy: 0.7212\n",
      "Epoch 138/200\n",
      "26/26 [==============================] - 186s 7s/step - loss: 0.4433 - accuracy: 0.8069 - val_loss: 0.4885 - val_accuracy: 0.7404\n",
      "Epoch 139/200\n",
      "26/26 [==============================] - 181s 7s/step - loss: 0.4734 - accuracy: 0.7819 - val_loss: 0.4870 - val_accuracy: 0.7404\n",
      "Epoch 140/200\n",
      "26/26 [==============================] - 181s 7s/step - loss: 0.4536 - accuracy: 0.7876 - val_loss: 0.4727 - val_accuracy: 0.7404\n",
      "Epoch 141/200\n",
      "26/26 [==============================] - 183s 7s/step - loss: 0.4715 - accuracy: 0.7799 - val_loss: 0.4771 - val_accuracy: 0.7500\n",
      "Epoch 142/200\n",
      "26/26 [==============================] - 181s 7s/step - loss: 0.4337 - accuracy: 0.7896 - val_loss: 0.4764 - val_accuracy: 0.7500\n",
      "Epoch 143/200\n",
      "26/26 [==============================] - 181s 7s/step - loss: 0.4796 - accuracy: 0.7857 - val_loss: 0.4799 - val_accuracy: 0.7404\n",
      "Epoch 144/200\n",
      "26/26 [==============================] - 181s 7s/step - loss: 0.4588 - accuracy: 0.7876 - val_loss: 0.4701 - val_accuracy: 0.7404\n",
      "Epoch 145/200\n",
      "26/26 [==============================] - 181s 7s/step - loss: 0.4441 - accuracy: 0.7934 - val_loss: 0.4752 - val_accuracy: 0.7404\n",
      "Epoch 146/200\n",
      "26/26 [==============================] - 181s 7s/step - loss: 0.4602 - accuracy: 0.7857 - val_loss: 0.4829 - val_accuracy: 0.7404\n",
      "Epoch 147/200\n",
      "26/26 [==============================] - 181s 7s/step - loss: 0.4558 - accuracy: 0.7934 - val_loss: 0.4734 - val_accuracy: 0.7404\n",
      "Epoch 148/200\n",
      "26/26 [==============================] - 181s 7s/step - loss: 0.4583 - accuracy: 0.8050 - val_loss: 0.4727 - val_accuracy: 0.7404\n",
      "Epoch 149/200\n",
      "26/26 [==============================] - 181s 7s/step - loss: 0.4591 - accuracy: 0.7761 - val_loss: 0.5120 - val_accuracy: 0.7115\n",
      "Epoch 150/200\n",
      "26/26 [==============================] - 181s 7s/step - loss: 0.4523 - accuracy: 0.7896 - val_loss: 0.4856 - val_accuracy: 0.7404\n",
      "Epoch 151/200\n",
      "26/26 [==============================] - 181s 7s/step - loss: 0.4425 - accuracy: 0.8031 - val_loss: 0.4816 - val_accuracy: 0.7404\n",
      "Epoch 152/200\n",
      "26/26 [==============================] - 182s 7s/step - loss: 0.4762 - accuracy: 0.7606 - val_loss: 0.4818 - val_accuracy: 0.7404\n",
      "Epoch 153/200\n",
      "26/26 [==============================] - 181s 7s/step - loss: 0.4480 - accuracy: 0.8050 - val_loss: 0.4698 - val_accuracy: 0.7404\n",
      "Epoch 154/200\n",
      "26/26 [==============================] - 181s 7s/step - loss: 0.4349 - accuracy: 0.7992 - val_loss: 0.4920 - val_accuracy: 0.7308\n",
      "Epoch 155/200\n",
      "26/26 [==============================] - 181s 7s/step - loss: 0.4431 - accuracy: 0.8031 - val_loss: 0.5008 - val_accuracy: 0.7115\n",
      "Epoch 156/200\n",
      "26/26 [==============================] - 181s 7s/step - loss: 0.4560 - accuracy: 0.7799 - val_loss: 0.4831 - val_accuracy: 0.7404\n",
      "Epoch 157/200\n",
      "26/26 [==============================] - 181s 7s/step - loss: 0.4559 - accuracy: 0.7876 - val_loss: 0.4819 - val_accuracy: 0.7404\n",
      "Epoch 158/200\n",
      "26/26 [==============================] - 181s 7s/step - loss: 0.4591 - accuracy: 0.7954 - val_loss: 0.4879 - val_accuracy: 0.7308\n",
      "Epoch 159/200\n",
      "26/26 [==============================] - 180s 7s/step - loss: 0.4672 - accuracy: 0.7780 - val_loss: 0.4740 - val_accuracy: 0.7404\n",
      "Epoch 160/200\n",
      "26/26 [==============================] - 178s 7s/step - loss: 0.4332 - accuracy: 0.7934 - val_loss: 0.4821 - val_accuracy: 0.7404\n",
      "Epoch 161/200\n",
      "26/26 [==============================] - 178s 7s/step - loss: 0.4569 - accuracy: 0.7761 - val_loss: 0.4911 - val_accuracy: 0.7404\n",
      "Epoch 162/200\n",
      "26/26 [==============================] - 178s 7s/step - loss: 0.4652 - accuracy: 0.7780 - val_loss: 0.4914 - val_accuracy: 0.7404\n",
      "Epoch 163/200\n",
      "26/26 [==============================] - 177s 7s/step - loss: 0.4478 - accuracy: 0.7876 - val_loss: 0.4872 - val_accuracy: 0.7308\n",
      "Epoch 164/200\n",
      "26/26 [==============================] - 178s 7s/step - loss: 0.4375 - accuracy: 0.8031 - val_loss: 0.4797 - val_accuracy: 0.7404\n",
      "Epoch 165/200\n",
      "26/26 [==============================] - 177s 7s/step - loss: 0.4344 - accuracy: 0.8050 - val_loss: 0.4833 - val_accuracy: 0.7404\n",
      "Epoch 166/200\n",
      "26/26 [==============================] - 179s 7s/step - loss: 0.4419 - accuracy: 0.8050 - val_loss: 0.4816 - val_accuracy: 0.7404\n",
      "Epoch 167/200\n",
      "26/26 [==============================] - 178s 7s/step - loss: 0.4412 - accuracy: 0.8031 - val_loss: 0.4836 - val_accuracy: 0.7404\n",
      "Epoch 168/200\n",
      "26/26 [==============================] - 178s 7s/step - loss: 0.4295 - accuracy: 0.8127 - val_loss: 0.4819 - val_accuracy: 0.7404\n",
      "Epoch 169/200\n",
      "26/26 [==============================] - 177s 7s/step - loss: 0.4544 - accuracy: 0.8012 - val_loss: 0.4819 - val_accuracy: 0.7404\n",
      "Epoch 170/200\n",
      "26/26 [==============================] - 179s 7s/step - loss: 0.4411 - accuracy: 0.7954 - val_loss: 0.4818 - val_accuracy: 0.7404\n",
      "Epoch 171/200\n",
      "26/26 [==============================] - 180s 7s/step - loss: 0.4491 - accuracy: 0.7819 - val_loss: 0.4824 - val_accuracy: 0.7404\n"
     ]
    },
    {
     "name": "stdout",
     "output_type": "stream",
     "text": [
      "Epoch 172/200\n",
      "26/26 [==============================] - 177s 7s/step - loss: 0.4330 - accuracy: 0.8050 - val_loss: 0.4817 - val_accuracy: 0.7404\n",
      "Epoch 173/200\n",
      "26/26 [==============================] - 181s 7s/step - loss: 0.4357 - accuracy: 0.8031 - val_loss: 0.4813 - val_accuracy: 0.7404\n",
      "Epoch 174/200\n",
      "26/26 [==============================] - 181s 7s/step - loss: 0.4422 - accuracy: 0.7954 - val_loss: 0.4813 - val_accuracy: 0.7404\n",
      "Epoch 175/200\n",
      "26/26 [==============================] - 181s 7s/step - loss: 0.4557 - accuracy: 0.7876 - val_loss: 0.4815 - val_accuracy: 0.7404\n",
      "Epoch 176/200\n",
      "26/26 [==============================] - 181s 7s/step - loss: 0.4594 - accuracy: 0.7780 - val_loss: 0.4814 - val_accuracy: 0.7404\n",
      "Epoch 177/200\n",
      "26/26 [==============================] - 181s 7s/step - loss: 0.5026 - accuracy: 0.7548 - val_loss: 0.5092 - val_accuracy: 0.7115\n",
      "Epoch 178/200\n",
      "26/26 [==============================] - 181s 7s/step - loss: 0.4706 - accuracy: 0.7741 - val_loss: 0.4828 - val_accuracy: 0.7404\n",
      "Epoch 179/200\n",
      "26/26 [==============================] - 181s 7s/step - loss: 0.4825 - accuracy: 0.7548 - val_loss: 0.5235 - val_accuracy: 0.7019\n",
      "Epoch 180/200\n",
      "26/26 [==============================] - 180s 7s/step - loss: 0.4768 - accuracy: 0.7761 - val_loss: 0.4991 - val_accuracy: 0.7212\n",
      "Epoch 181/200\n",
      "26/26 [==============================] - 177s 7s/step - loss: 0.4707 - accuracy: 0.7780 - val_loss: 0.4719 - val_accuracy: 0.7308\n",
      "Epoch 182/200\n",
      "26/26 [==============================] - 178s 7s/step - loss: 0.5005 - accuracy: 0.7645 - val_loss: 0.4595 - val_accuracy: 0.7596\n",
      "Epoch 183/200\n",
      "26/26 [==============================] - 177s 7s/step - loss: 0.4776 - accuracy: 0.7838 - val_loss: 0.4900 - val_accuracy: 0.7404\n",
      "Epoch 184/200\n",
      "26/26 [==============================] - 183s 7s/step - loss: 0.5109 - accuracy: 0.7355 - val_loss: 0.4583 - val_accuracy: 0.7596\n",
      "Epoch 185/200\n",
      "26/26 [==============================] - 181s 7s/step - loss: 0.4819 - accuracy: 0.7741 - val_loss: 0.4637 - val_accuracy: 0.8077\n",
      "Epoch 186/200\n",
      "26/26 [==============================] - 181s 7s/step - loss: 0.4609 - accuracy: 0.7915 - val_loss: 0.5751 - val_accuracy: 0.6731\n",
      "Epoch 187/200\n",
      "26/26 [==============================] - 181s 7s/step - loss: 0.4665 - accuracy: 0.7645 - val_loss: 0.5081 - val_accuracy: 0.7115\n",
      "Epoch 188/200\n",
      "26/26 [==============================] - 181s 7s/step - loss: 0.4410 - accuracy: 0.7934 - val_loss: 0.4714 - val_accuracy: 0.7308\n",
      "Epoch 189/200\n",
      "26/26 [==============================] - 181s 7s/step - loss: 0.4801 - accuracy: 0.7683 - val_loss: 0.5601 - val_accuracy: 0.7404\n",
      "Epoch 190/200\n",
      "26/26 [==============================] - 181s 7s/step - loss: 0.4712 - accuracy: 0.7741 - val_loss: 0.4995 - val_accuracy: 0.7115\n",
      "Epoch 191/200\n",
      "26/26 [==============================] - 181s 7s/step - loss: 0.4697 - accuracy: 0.7741 - val_loss: 0.5185 - val_accuracy: 0.7212\n",
      "Epoch 192/200\n",
      "26/26 [==============================] - 181s 7s/step - loss: 0.4584 - accuracy: 0.7625 - val_loss: 0.4654 - val_accuracy: 0.7308\n",
      "Epoch 193/200\n",
      "26/26 [==============================] - 181s 7s/step - loss: 0.4542 - accuracy: 0.8089 - val_loss: 0.5456 - val_accuracy: 0.7019\n",
      "Epoch 194/200\n",
      "26/26 [==============================] - 181s 7s/step - loss: 0.4489 - accuracy: 0.7954 - val_loss: 0.4510 - val_accuracy: 0.8173\n",
      "Epoch 195/200\n",
      "26/26 [==============================] - 181s 7s/step - loss: 0.4612 - accuracy: 0.7954 - val_loss: 0.4473 - val_accuracy: 0.7500\n",
      "Epoch 196/200\n",
      "26/26 [==============================] - 181s 7s/step - loss: 0.4492 - accuracy: 0.7934 - val_loss: 0.5911 - val_accuracy: 0.7019\n",
      "Epoch 197/200\n",
      "26/26 [==============================] - 181s 7s/step - loss: 0.4468 - accuracy: 0.7664 - val_loss: 0.5827 - val_accuracy: 0.6923\n",
      "Epoch 198/200\n",
      "26/26 [==============================] - 181s 7s/step - loss: 0.4123 - accuracy: 0.8127 - val_loss: 0.5047 - val_accuracy: 0.7019\n",
      "Epoch 199/200\n",
      "26/26 [==============================] - 181s 7s/step - loss: 0.4470 - accuracy: 0.8031 - val_loss: 0.4621 - val_accuracy: 0.7404\n",
      "Epoch 200/200\n",
      "26/26 [==============================] - 181s 7s/step - loss: 0.4617 - accuracy: 0.7857 - val_loss: 0.4723 - val_accuracy: 0.7212\n"
     ]
    }
   ],
   "source": [
    "# Compilando o modelo\n",
    "full_model.compile(loss='categorical_crossentropy',\n",
    "                  optimizer= keras.optimizers.SGD(learning_rate=lr_schedule),\n",
    "                  metrics=['accuracy'])\n",
    "\n",
    "# Treinando o modelo com os dados de treino e teste\n",
    "history = full_model.fit(\n",
    "    train_generator,\n",
    "    validation_data = val_generator,\n",
    "    epochs = 200,\n",
    "    callbacks=[callback]\n",
    ")"
   ]
  },
  {
   "cell_type": "code",
   "execution_count": 14,
   "metadata": {},
   "outputs": [
    {
     "name": "stdout",
     "output_type": "stream",
     "text": [
      "dict_keys(['loss', 'accuracy', 'val_loss', 'val_accuracy'])\n"
     ]
    },
    {
     "data": {
      "image/png": "[encoded data removed]",
      "text/plain": [
       "<Figure size 432x288 with 1 Axes>"
      ]
     },
     "metadata": {
      "needs_background": "light"
     },
     "output_type": "display_data"
    },
    {
     "data": {
      "image/png": "[encoded data removed]",
      "text/plain": [
       "<Figure size 432x288 with 1 Axes>"
      ]
     },
     "metadata": {
      "needs_background": "light"
     },
     "output_type": "display_data"
    }
   ],
   "source": [
    "# list all data in history\n",
    "print(history.history.keys())\n",
    "# summarize history for accuracy\n",
    "plt.plot(history.history['accuracy'])\n",
    "plt.plot(history.history['val_accuracy'])\n",
    "plt.title('Model accuracy')\n",
    "plt.ylabel('accuracy')\n",
    "plt.xlabel('epoch')\n",
    "plt.legend(['train', 'validation'], loc='upper left')\n",
    "plt.show()\n",
    "\n",
    "# summarize history for loss\n",
    "plt.plot(history.history['loss'])\n",
    "plt.plot(history.history['val_loss'])\n",
    "plt.title('Model loss')\n",
    "plt.ylabel('loss')\n",
    "plt.xlabel('epoch')\n",
    "plt.legend(['train', 'validation'], loc='upper left')\n",
    "plt.show()"
   ]
  },
  {
   "cell_type": "code",
   "execution_count": 15,
   "metadata": {
    "id": "SKCXsfPNnaTj"
   },
   "outputs": [
    {
     "name": "stdout",
     "output_type": "stream",
     "text": [
      "Found 70 images belonging to 2 classes.\n"
     ]
    }
   ],
   "source": [
    "#dados de teste\n",
    "path_test = 'C:/Users/Administrador/Meu Drive/Doutorado/UFES-Elétrica/Implementação Jacques Facon K means/Códigos/Artigo/dados/test/'\n",
    "test_generator =  test_datagen.flow_from_directory(\n",
    "    path_test,\n",
    "    target_size = (299, 299),\n",
    "    shuffle = False,\n",
    "    batch_size= batch_size,\n",
    "    class_mode='categorical'     \n",
    "    )"
   ]
  },
  {
   "cell_type": "code",
   "execution_count": 16,
   "metadata": {
    "id": "GXbluiDFnaRU"
   },
   "outputs": [
    {
     "name": "stdout",
     "output_type": "stream",
     "text": [
      "4/4 [==============================] - 18s 4s/step\n"
     ]
    }
   ],
   "source": [
    "#Confution Matrix and Classification Report\n",
    "\n",
    "from sklearn.metrics import confusion_matrix, classification_report\n",
    "Y_pred = full_model.predict(test_generator)\n",
    "y_pred = np.argmax(Y_pred, axis=1)\n",
    "\n",
    "cmvgg = confusion_matrix(test_generator.classes, y_pred )"
   ]
  },
  {
   "cell_type": "code",
   "execution_count": 18,
   "metadata": {
    "id": "nTlQxOHo2vN0"
   },
   "outputs": [
    {
     "data": {
      "text/plain": [
       "array([[17, 18],\n",
       "       [ 3, 32]], dtype=int64)"
      ]
     },
     "execution_count": 18,
     "metadata": {},
     "output_type": "execute_result"
    }
   ],
   "source": [
    "from sklearn.metrics import confusion_matrix, classification_report,accuracy_score\n",
    "\n",
    "confusion_matrix(test_generator.classes, y_pred )\n"
   ]
  },
  {
   "cell_type": "code",
   "execution_count": 20,
   "metadata": {
    "id": "lRBVgIF8naMv"
   },
   "outputs": [
    {
     "name": "stdout",
     "output_type": "stream",
     "text": [
      "              precision    recall  f1-score   support\n",
      "\n",
      "           0       0.85      0.49      0.62        35\n",
      "           1       0.64      0.91      0.75        35\n",
      "\n",
      "    accuracy                           0.70        70\n",
      "   macro avg       0.74      0.70      0.69        70\n",
      "weighted avg       0.75      0.70      0.69        70\n",
      "\n"
     ]
    }
   ],
   "source": [
    "print(classification_report(test_generator.classes, y_pred))"
   ]
  },
  {
   "cell_type": "code",
   "execution_count": 22,
   "metadata": {},
   "outputs": [
    {
     "data": {
      "text/plain": [
       "Text(0.5, 12.5, 'Predicted label')"
      ]
     },
     "execution_count": 22,
     "metadata": {},
     "output_type": "execute_result"
    },
    {
     "data": {
      "image/png": "[encoded data removed]",
      "text/plain": [
       "<Figure size 360x360 with 2 Axes>"
      ]
     },
     "metadata": {},
     "output_type": "display_data"
    }
   ],
   "source": [
    "from sklearn.metrics import confusion_matrix, accuracy_score\n",
    "import seaborn as sns\n",
    "\n",
    "cm = confusion_matrix(test_generator.classes, y_pred)\n",
    "plt.figure(figsize=(5,5))\n",
    "x_axis_labels = ['Benign','Malignant'] # labels for x-axis\n",
    "y_axis_labels = ['Benign','Malignant'] # labels for y-axis\n",
    "ax = sns.heatmap(cm, annot=True, fmt=\"d\",xticklabels=x_axis_labels, yticklabels=y_axis_labels)\n",
    "sns.set(font_scale=1.8)\n",
    "plt.title('Confusion matrix VGG19')\n",
    "plt.ylabel('Actual label')\n",
    "plt.xlabel('Predicted label')"
   ]
  },
  {
   "cell_type": "code",
   "execution_count": null,
   "metadata": {},
   "outputs": [],
   "source": []
  }
 ],
 "metadata": {
  "accelerator": "GPU",
  "colab": {
   "collapsed_sections": [],
   "provenance": []
  },
  "kernelspec": {
   "display_name": "Python 3 (ipykernel)",
   "language": "python",
   "name": "python3"
  },
  "language_info": {
   "codemirror_mode": {
    "name": "ipython",
    "version": 3
   },
   "file_extension": ".py",
   "mimetype": "text/x-python",
   "name": "python",
   "nbconvert_exporter": "python",
   "pygments_lexer": "ipython3",
   "version": "3.9.12"
  }
 },
 "nbformat": 4,
 "nbformat_minor": 1
}
