{
 "cells": [
  {
   "cell_type": "markdown",
   "metadata": {
    "id": "view-in-github"
   },
   "source": [
    "<a href=\"https://colab.research.google.com/github/antoniodragoc/Projeto-de-Graduacao-Antonio-Drago-Caetano/blob/main/2_VGG19.ipynb\" target=\"_parent\"><img src=\"https://colab.research.google.com/assets/colab-badge.svg\" alt=\"Open In Colab\"/></a>"
   ]
  },
  {
   "cell_type": "code",
   "execution_count": 99,
   "metadata": {
    "executionInfo": {
     "elapsed": 4,
     "status": "ok",
     "timestamp": 1665109509158,
     "user": {
      "displayName": "Edmilson Queiroz",
      "userId": "09147851522619504428"
     },
     "user_tz": 180
    },
    "id": "BjjPrlamJQ7F"
   },
   "outputs": [],
   "source": [
    "# import the needed packages\n",
    "\n",
    "import numpy as np\n",
    "import pandas as pd\n",
    "import matplotlib.pyplot as plt\n",
    "import seaborn as sns\n",
    "import plotly.express as px\n",
    "import plotly.graph_objects as go\n",
    "from plotly.subplots import make_subplots\n",
    "import os\n",
    "\n",
    "import matplotlib.image as img\n",
    "\n",
    "import tensorflow as tf\n",
    "from tensorflow import keras\n",
    "from tensorflow.keras import layers\n",
    "from tensorflow.keras.preprocessing import image\n",
    "from tensorflow.keras.applications.resnet50 import ResNet50\n",
    "from tensorflow.keras.applications import Xception\n",
    "from tensorflow.keras.models import Model\n",
    "from tensorflow.keras.layers import Dropout, Conv2D, MaxPool2D, Flatten, Dense\n",
    "from tensorflow.keras.metrics import Recall,AUC\n",
    "from tensorflow.keras.utils import plot_model\n",
    "from tensorflow.keras.callbacks import EarlyStopping, ReduceLROnPlateau\n",
    "\n",
    "from keras.applications.vgg19 import VGG19\n",
    "from keras.preprocessing.image import ImageDataGenerator\n",
    "from keras.layers import Flatten\n",
    "from keras.models import Sequential, Model\n",
    "from keras.layers import Activation, Dense, Dropout, Conv2D\n",
    "\n",
    "from sklearn.metrics import confusion_matrix, classification_report, accuracy_score\n",
    "\n",
    "from fast_ml.model_development import train_valid_test_split"
   ]
  },
  {
   "cell_type": "code",
   "execution_count": 100,
   "metadata": {
    "executionInfo": {
     "elapsed": 2,
     "status": "ok",
     "timestamp": 1665109926523,
     "user": {
      "displayName": "Edmilson Queiroz",
      "userId": "09147851522619504428"
     },
     "user_tz": 180
    },
    "id": "ozAFXMarm-1l"
   },
   "outputs": [],
   "source": [
    "# Caminhos de treino e validação\n",
    "\n",
    "# Obs - no diretório dados os dados estão separados em 75% treino 15% validação e 10% teste\n",
    "\n",
    "path_train = 'D:/Users/N30090/OneDrive - ArcelorMittal/Pictures/Doutorado_img/dados_fetuga/train/'\n",
    "path_val = 'D:/Users/N30090/OneDrive - ArcelorMittal/Pictures/Doutorado_img/dados_fetuga/val/'\n",
    "\n",
    "batch_size = 20\n"
   ]
  },
  {
   "cell_type": "code",
   "execution_count": 101,
   "metadata": {
    "executionInfo": {
     "elapsed": 429,
     "status": "ok",
     "timestamp": 1665109930714,
     "user": {
      "displayName": "Edmilson Queiroz",
      "userId": "09147851522619504428"
     },
     "user_tz": 180
    },
    "id": "DGB7a42fQnhe"
   },
   "outputs": [],
   "source": [
    "# Gerando os dados a partir das imagens\n",
    "train_datagen = ImageDataGenerator(    \n",
    "    rotation_range = 90,\n",
    "    vertical_flip = True,\n",
    "    horizontal_flip = True,\n",
    "    zoom_range=0.05,\n",
    "    width_shift_range=0.2,\n",
    "    height_shift_range=0.2,\n",
    "    fill_mode = 'reflect',\n",
    "    samplewise_center = True,\n",
    "    samplewise_std_normalization = True\n",
    "    )\n",
    "\n",
    "val_datagen = ImageDataGenerator(\n",
    "    samplewise_center = True,\n",
    "    samplewise_std_normalization = True\n",
    "    )\n",
    "\n",
    "\n",
    "test_datagen = ImageDataGenerator(\n",
    "    samplewise_center = True,\n",
    "    samplewise_std_normalization = True\n",
    "    )\n"
   ]
  },
  {
   "cell_type": "code",
   "execution_count": 102,
   "metadata": {
    "colab": {
     "base_uri": "https://localhost:8080/"
    },
    "executionInfo": {
     "elapsed": 2755,
     "status": "ok",
     "timestamp": 1665109940026,
     "user": {
      "displayName": "Edmilson Queiroz",
      "userId": "09147851522619504428"
     },
     "user_tz": 180
    },
    "id": "lueaFrKJm-yo",
    "outputId": "86478145-14e4-42a2-830b-ee1b49adbd72"
   },
   "outputs": [
    {
     "name": "stdout",
     "output_type": "stream",
     "text": [
      "Found 520 images belonging to 2 classes.\n",
      "Found 104 images belonging to 2 classes.\n"
     ]
    }
   ],
   "source": [
    "# dados de treino\n",
    "train_generator = train_datagen.flow_from_directory(\n",
    "    path_train,\n",
    "    target_size = (256, 256),\n",
    "    batch_size= batch_size,\n",
    "    shuffle=True,\n",
    "    class_mode='categorical' \n",
    ")\n",
    "\n",
    "#dados de validação\n",
    "val_generator = val_datagen.flow_from_directory(\n",
    "    path_val,\n",
    "    target_size = (256, 256),\n",
    "    batch_size= batch_size,  \n",
    "    shuffle=True,\n",
    "    class_mode='categorical'     \n",
    ")"
   ]
  },
  {
   "cell_type": "code",
   "execution_count": 103,
   "metadata": {
    "executionInfo": {
     "elapsed": 679,
     "status": "ok",
     "timestamp": 1665109946272,
     "user": {
      "displayName": "Edmilson Queiroz",
      "userId": "09147851522619504428"
     },
     "user_tz": 180
    },
    "id": "g5txLHv5FJsf"
   },
   "outputs": [],
   "source": [
    "y_true = train_generator.classes"
   ]
  },
  {
   "cell_type": "code",
   "execution_count": 104,
   "metadata": {
    "colab": {
     "base_uri": "https://localhost:8080/"
    },
    "executionInfo": {
     "elapsed": 429,
     "status": "ok",
     "timestamp": 1665109949988,
     "user": {
      "displayName": "Edmilson Queiroz",
      "userId": "09147851522619504428"
     },
     "user_tz": 180
    },
    "id": "4uZ9l5YCHdWs",
    "outputId": "c7f13b58-74c6-4b61-bb20-c56d0844fdc3"
   },
   "outputs": [
    {
     "data": {
      "text/plain": [
       "array([0, 0, 0, 0, 0, 0, 0, 0, 0, 0, 0, 0, 0, 0, 0, 0, 0, 0, 0, 0, 0, 0,\n",
       "       0, 0, 0, 0, 0, 0, 0, 0, 0, 0, 0, 0, 0, 0, 0, 0, 0, 0, 0, 0, 0, 0,\n",
       "       0, 0, 0, 0, 0, 0, 0, 0, 1, 1, 1, 1, 1, 1, 1, 1, 1, 1, 1, 1, 1, 1,\n",
       "       1, 1, 1, 1, 1, 1, 1, 1, 1, 1, 1, 1, 1, 1, 1, 1, 1, 1, 1, 1, 1, 1,\n",
       "       1, 1, 1, 1, 1, 1, 1, 1, 1, 1, 1, 1, 1, 1, 1, 1])"
      ]
     },
     "execution_count": 104,
     "metadata": {},
     "output_type": "execute_result"
    }
   ],
   "source": [
    "val_generator.classes"
   ]
  },
  {
   "cell_type": "code",
   "execution_count": 105,
   "metadata": {
    "colab": {
     "base_uri": "https://localhost:8080/"
    },
    "executionInfo": {
     "elapsed": 1537,
     "status": "ok",
     "timestamp": 1665109982026,
     "user": {
      "displayName": "Edmilson Queiroz",
      "userId": "09147851522619504428"
     },
     "user_tz": 180
    },
    "id": "038vqfBClIv7",
    "outputId": "6f839c53-3fb5-46dd-a5ef-f33bc6fd8b4a",
    "scrolled": true
   },
   "outputs": [
    {
     "name": "stdout",
     "output_type": "stream",
     "text": [
      "Model: \"model_6\"\n",
      "_________________________________________________________________\n",
      " Layer (type)                Output Shape              Param #   \n",
      "=================================================================\n",
      " input_7 (InputLayer)        [(None, 256, 256, 3)]     0         \n",
      "                                                                 \n",
      " block1_conv1 (Conv2D)       (None, 256, 256, 64)      1792      \n",
      "                                                                 \n",
      " block1_conv2 (Conv2D)       (None, 256, 256, 64)      36928     \n",
      "                                                                 \n",
      " block1_pool (MaxPooling2D)  (None, 128, 128, 64)      0         \n",
      "                                                                 \n",
      " block2_conv1 (Conv2D)       (None, 128, 128, 128)     73856     \n",
      "                                                                 \n",
      " block2_conv2 (Conv2D)       (None, 128, 128, 128)     147584    \n",
      "                                                                 \n",
      " block2_pool (MaxPooling2D)  (None, 64, 64, 128)       0         \n",
      "                                                                 \n",
      " block3_conv1 (Conv2D)       (None, 64, 64, 256)       295168    \n",
      "                                                                 \n",
      " block3_conv2 (Conv2D)       (None, 64, 64, 256)       590080    \n",
      "                                                                 \n",
      " block3_conv3 (Conv2D)       (None, 64, 64, 256)       590080    \n",
      "                                                                 \n",
      " block3_conv4 (Conv2D)       (None, 64, 64, 256)       590080    \n",
      "                                                                 \n",
      " block3_pool (MaxPooling2D)  (None, 32, 32, 256)       0         \n",
      "                                                                 \n",
      " block4_conv1 (Conv2D)       (None, 32, 32, 512)       1180160   \n",
      "                                                                 \n",
      " block4_conv2 (Conv2D)       (None, 32, 32, 512)       2359808   \n",
      "                                                                 \n",
      " block4_conv3 (Conv2D)       (None, 32, 32, 512)       2359808   \n",
      "                                                                 \n",
      " block4_conv4 (Conv2D)       (None, 32, 32, 512)       2359808   \n",
      "                                                                 \n",
      " block4_pool (MaxPooling2D)  (None, 16, 16, 512)       0         \n",
      "                                                                 \n",
      " block5_conv1 (Conv2D)       (None, 16, 16, 512)       2359808   \n",
      "                                                                 \n",
      " block5_conv2 (Conv2D)       (None, 16, 16, 512)       2359808   \n",
      "                                                                 \n",
      " block5_conv3 (Conv2D)       (None, 16, 16, 512)       2359808   \n",
      "                                                                 \n",
      " block5_conv4 (Conv2D)       (None, 16, 16, 512)       2359808   \n",
      "                                                                 \n",
      " block5_pool (MaxPooling2D)  (None, 8, 8, 512)         0         \n",
      "                                                                 \n",
      " flatten_6 (Flatten)         (None, 32768)             0         \n",
      "                                                                 \n",
      " dropout_6 (Dropout)         (None, 32768)             0         \n",
      "                                                                 \n",
      " dense_18 (Dense)            (None, 128)               4194432   \n",
      "                                                                 \n",
      " dense_19 (Dense)            (None, 64)                8256      \n",
      "                                                                 \n",
      " dense_20 (Dense)            (None, 2)                 130       \n",
      "                                                                 \n",
      "=================================================================\n",
      "Total params: 24227202 (92.42 MB)\n",
      "Trainable params: 6562626 (25.03 MB)\n",
      "Non-trainable params: 17664576 (67.39 MB)\n",
      "_________________________________________________________________\n"
     ]
    }
   ],
   "source": [
    "# Chamando a rede pré-treinada\n",
    "conv_model = VGG19(\n",
    "    weights='imagenet', \n",
    "    include_top=False, \n",
    "    input_shape=(256,256,3))\n",
    "\n",
    "first_freeze_layers = 20 #number of the first layers to freeze\n",
    "for layer in conv_model.layers[0:first_freeze_layers]:\n",
    "    layer.trainable = False\n",
    "\n",
    "teste = keras.layers.Flatten()(conv_model.output)\n",
    "\n",
    "# three hidden layers\n",
    "teste = keras.layers.Dropout(0.4)(teste)\n",
    "teste = keras.layers.Dense(128, activation='relu')(teste)\n",
    "teste = keras.layers.Dense(64, activation='relu')(teste)\n",
    "\n",
    "# final softmax layer with two categories\n",
    "predictions = keras.layers.Dense(2, activation='softmax')(teste)\n",
    "\n",
    "# creating the full model:\n",
    "full_model = keras.models.Model(inputs=conv_model.input, outputs=predictions)\n",
    "\n",
    "full_model.summary()"
   ]
  },
  {
   "cell_type": "code",
   "execution_count": 106,
   "metadata": {
    "executionInfo": {
     "elapsed": 430,
     "status": "ok",
     "timestamp": 1665109988327,
     "user": {
      "displayName": "Edmilson Queiroz",
      "userId": "09147851522619504428"
     },
     "user_tz": 180
    },
    "id": "j9-W-go7fjRZ"
   },
   "outputs": [],
   "source": [
    "#EARLY STOPPING ADICIONADO\n",
    "# https://machinelearningmastery.com/how-to-stop-training-deep-neural-networks-at-the-right-time-using-early-stopping/\n",
    "callback = keras.callbacks.EarlyStopping(\n",
    "    monitor=\"val_loss\",\n",
    "    min_delta=0,\n",
    "    patience=40,\n",
    "    verbose=0,\n",
    "    mode=\"min\",\n",
    "    baseline=None,\n",
    "    restore_best_weights=True\n",
    ")\n",
    "\n",
    "lr_schedule = keras.optimizers.schedules.CosineDecayRestarts(\n",
    "    initial_learning_rate = 0.001, \n",
    "    first_decay_steps = 500, \n",
    "    t_mul=2.4, \n",
    "    m_mul=1.3, \n",
    "    alpha=0.001, \n",
    "    name=None\n",
    ")"
   ]
  },
  {
   "cell_type": "code",
   "execution_count": null,
   "metadata": {
    "colab": {
     "base_uri": "https://localhost:8080/",
     "height": 1000
    },
    "executionInfo": {
     "elapsed": 45870,
     "status": "error",
     "timestamp": 1665110056079,
     "user": {
      "displayName": "Edmilson Queiroz",
      "userId": "09147851522619504428"
     },
     "user_tz": 180
    },
    "id": "S2lTTOJcIZ0f",
    "outputId": "9836b916-ee1a-4376-e085-a98fc947f4f0",
    "scrolled": true
   },
   "outputs": [
    {
     "name": "stdout",
     "output_type": "stream",
     "text": [
      "Epoch 1/100\n",
      "26/26 [==============================] - 59s 2s/step - loss: 0.7494 - accuracy: 0.4923 - auc: 0.4888 - val_loss: 0.7758 - val_accuracy: 0.4135 - val_auc: 0.3107\n",
      "Epoch 2/100\n",
      "26/26 [==============================] - 57s 2s/step - loss: 0.6970 - accuracy: 0.5769 - auc: 0.5709 - val_loss: 0.7286 - val_accuracy: 0.4231 - val_auc: 0.4373\n",
      "Epoch 3/100\n",
      "26/26 [==============================] - 58s 2s/step - loss: 0.6815 - accuracy: 0.5846 - auc: 0.6044 - val_loss: 0.7247 - val_accuracy: 0.4712 - val_auc: 0.4555\n",
      "Epoch 4/100\n",
      "26/26 [==============================] - 57s 2s/step - loss: 0.6917 - accuracy: 0.5365 - auc: 0.5773 - val_loss: 0.7300 - val_accuracy: 0.4904 - val_auc: 0.5175\n",
      "Epoch 5/100\n",
      "26/26 [==============================] - 58s 2s/step - loss: 0.6768 - accuracy: 0.5808 - auc: 0.6122 - val_loss: 0.6842 - val_accuracy: 0.5769 - val_auc: 0.5895\n",
      "Epoch 6/100\n",
      "26/26 [==============================] - 59s 2s/step - loss: 0.6559 - accuracy: 0.6192 - auc: 0.6593 - val_loss: 0.7001 - val_accuracy: 0.5385 - val_auc: 0.5478\n",
      "Epoch 7/100\n",
      "26/26 [==============================] - 58s 2s/step - loss: 0.6722 - accuracy: 0.5865 - auc: 0.6196 - val_loss: 0.6904 - val_accuracy: 0.5192 - val_auc: 0.5579\n",
      "Epoch 8/100\n",
      "26/26 [==============================] - 58s 2s/step - loss: 0.6560 - accuracy: 0.6173 - auc: 0.6530 - val_loss: 0.6910 - val_accuracy: 0.5192 - val_auc: 0.5663\n",
      "Epoch 9/100\n",
      "26/26 [==============================] - 62s 2s/step - loss: 0.6485 - accuracy: 0.6192 - auc: 0.6696 - val_loss: 0.6866 - val_accuracy: 0.5481 - val_auc: 0.5833\n",
      "Epoch 10/100\n",
      "26/26 [==============================] - 61s 2s/step - loss: 0.6351 - accuracy: 0.6385 - auc: 0.6902 - val_loss: 0.6810 - val_accuracy: 0.5288 - val_auc: 0.5933\n",
      "Epoch 11/100\n",
      "26/26 [==============================] - 60s 2s/step - loss: 0.6113 - accuracy: 0.6808 - auc: 0.7352 - val_loss: 0.6761 - val_accuracy: 0.5288 - val_auc: 0.6089\n",
      "Epoch 12/100\n",
      "26/26 [==============================] - 57s 2s/step - loss: 0.6279 - accuracy: 0.6481 - auc: 0.7074 - val_loss: 0.6891 - val_accuracy: 0.5288 - val_auc: 0.5856\n",
      "Epoch 13/100\n",
      "26/26 [==============================] - 56s 2s/step - loss: 0.6156 - accuracy: 0.6596 - auc: 0.7221 - val_loss: 0.7131 - val_accuracy: 0.5769 - val_auc: 0.5689\n",
      "Epoch 14/100\n",
      "26/26 [==============================] - 59s 2s/step - loss: 0.6284 - accuracy: 0.6385 - auc: 0.7017 - val_loss: 0.7052 - val_accuracy: 0.5481 - val_auc: 0.5661\n",
      "Epoch 15/100\n",
      "26/26 [==============================] - 56s 2s/step - loss: 0.6185 - accuracy: 0.6538 - auc: 0.7212 - val_loss: 0.7003 - val_accuracy: 0.5385 - val_auc: 0.5711\n",
      "Epoch 16/100\n",
      "26/26 [==============================] - 55s 2s/step - loss: 0.6339 - accuracy: 0.6308 - auc: 0.6878 - val_loss: 0.7065 - val_accuracy: 0.5673 - val_auc: 0.5703\n",
      "Epoch 17/100\n",
      "26/26 [==============================] - 55s 2s/step - loss: 0.6309 - accuracy: 0.6346 - auc: 0.6965 - val_loss: 0.7027 - val_accuracy: 0.5481 - val_auc: 0.5714\n",
      "Epoch 18/100\n",
      "26/26 [==============================] - 57s 2s/step - loss: 0.6248 - accuracy: 0.6308 - auc: 0.7045 - val_loss: 0.7039 - val_accuracy: 0.5481 - val_auc: 0.5708\n",
      "Epoch 19/100\n",
      "26/26 [==============================] - 57s 2s/step - loss: 0.6212 - accuracy: 0.6673 - auc: 0.7174 - val_loss: 0.7043 - val_accuracy: 0.5673 - val_auc: 0.5716\n",
      "Epoch 20/100\n",
      "26/26 [==============================] - 54s 2s/step - loss: 0.6251 - accuracy: 0.6673 - auc: 0.7098 - val_loss: 0.6812 - val_accuracy: 0.5385 - val_auc: 0.5869\n",
      "Epoch 21/100\n",
      "26/26 [==============================] - 61s 2s/step - loss: 0.6621 - accuracy: 0.6173 - auc: 0.6623 - val_loss: 0.7456 - val_accuracy: 0.5673 - val_auc: 0.5659\n",
      "Epoch 22/100\n",
      "26/26 [==============================] - 55s 2s/step - loss: 0.6301 - accuracy: 0.6346 - auc: 0.6998 - val_loss: 0.6714 - val_accuracy: 0.6058 - val_auc: 0.6263\n",
      "Epoch 23/100\n",
      "26/26 [==============================] - 55s 2s/step - loss: 0.6258 - accuracy: 0.6654 - auc: 0.7046 - val_loss: 0.7127 - val_accuracy: 0.5865 - val_auc: 0.6097\n",
      "Epoch 24/100\n",
      "26/26 [==============================] - 56s 2s/step - loss: 0.6398 - accuracy: 0.6154 - auc: 0.6838 - val_loss: 0.6659 - val_accuracy: 0.6058 - val_auc: 0.6238\n",
      "Epoch 25/100\n",
      "26/26 [==============================] - 77s 3s/step - loss: 0.6005 - accuracy: 0.6923 - auc: 0.7413 - val_loss: 0.6675 - val_accuracy: 0.5577 - val_auc: 0.6453\n",
      "Epoch 26/100\n",
      "26/26 [==============================] - 79s 3s/step - loss: 0.6262 - accuracy: 0.6654 - auc: 0.7073 - val_loss: 0.7013 - val_accuracy: 0.6058 - val_auc: 0.6180\n",
      "Epoch 27/100\n",
      "26/26 [==============================] - 81s 3s/step - loss: 0.5912 - accuracy: 0.6846 - auc: 0.7512 - val_loss: 0.6833 - val_accuracy: 0.6058 - val_auc: 0.6405\n",
      "Epoch 28/100\n",
      "26/26 [==============================] - 81s 3s/step - loss: 0.5771 - accuracy: 0.6923 - auc: 0.7656 - val_loss: 0.6623 - val_accuracy: 0.5673 - val_auc: 0.6529\n",
      "Epoch 29/100\n",
      "26/26 [==============================] - 81s 3s/step - loss: 0.5840 - accuracy: 0.6981 - auc: 0.7608 - val_loss: 0.6544 - val_accuracy: 0.5673 - val_auc: 0.6637\n",
      "Epoch 30/100\n",
      "11/26 [===========>..................] - ETA: 38s - loss: 0.6067 - accuracy: 0.6955 - auc: 0.7294"
     ]
    }
   ],
   "source": [
    "# Compilando o modelo\n",
    "full_model.compile(loss='categorical_crossentropy',\n",
    "                  optimizer= keras.optimizers.SGD(learning_rate=lr_schedule),\n",
    "                  metrics=['accuracy','AUC'])\n",
    "\n",
    "# Treinando o modelo com os dados de treino e teste\n",
    "history = full_model.fit(\n",
    "    train_generator,\n",
    "    validation_data = val_generator,\n",
    "    epochs = 100,\n",
    "    callbacks=[callback]\n",
    ")"
   ]
  },
  {
   "cell_type": "code",
   "execution_count": null,
   "metadata": {},
   "outputs": [],
   "source": [
    "# list all data in history\n",
    "print(history.history.keys())\n",
    "# summarize history for accuracy\n",
    "plt.plot(history.history['accuracy'])\n",
    "plt.plot(history.history['val_accuracy'])\n",
    "plt.title('Model accuracy')\n",
    "plt.ylabel('accuracy')\n",
    "plt.xlabel('epoch')\n",
    "plt.legend(['train', 'validation'], loc='upper left')\n",
    "plt.show()\n",
    "\n",
    "# summarize history for auc\n",
    "plt.plot(history.history['auc'])\n",
    "plt.plot(history.history['val_auc'])\n",
    "plt.title('Model auc')\n",
    "plt.ylabel('auc')\n",
    "plt.xlabel('epoch')\n",
    "plt.legend(['train', 'validation'], loc='upper left')\n",
    "plt.show()\n",
    "\n",
    "# summarize history for loss\n",
    "plt.plot(history.history['loss'])\n",
    "plt.plot(history.history['val_loss'])\n",
    "plt.title('Model loss')\n",
    "plt.ylabel('loss')\n",
    "plt.xlabel('epoch')\n",
    "plt.legend(['train', 'validation'], loc='upper left')\n",
    "plt.show()"
   ]
  },
  {
   "cell_type": "code",
   "execution_count": null,
   "metadata": {
    "id": "SKCXsfPNnaTj"
   },
   "outputs": [],
   "source": [
    "#dados de teste\n",
    "path_test = 'D:/Users/N30090/OneDrive - ArcelorMittal/Pictures/Doutorado_img/dados_fetuga/test/'\n",
    "test_generator =  test_datagen.flow_from_directory(\n",
    "    path_test,\n",
    "    target_size = (256, 256),\n",
    "    shuffle = False,\n",
    "    batch_size= batch_size,\n",
    "    class_mode='categorical'     \n",
    "    )"
   ]
  },
  {
   "cell_type": "code",
   "execution_count": null,
   "metadata": {
    "id": "GXbluiDFnaRU"
   },
   "outputs": [],
   "source": [
    "#Confution Matrix and Classification Report\n",
    "\n",
    "from sklearn.metrics import confusion_matrix, classification_report\n",
    "Y_pred = full_model.predict(test_generator)\n",
    "y_pred = np.argmax(Y_pred, axis=1)\n",
    "\n",
    "cmvgg = confusion_matrix(test_generator.classes, y_pred )"
   ]
  },
  {
   "cell_type": "code",
   "execution_count": null,
   "metadata": {
    "id": "lRBVgIF8naMv"
   },
   "outputs": [],
   "source": [
    "print(classification_report(test_generator.classes, y_pred))"
   ]
  },
  {
   "cell_type": "code",
   "execution_count": null,
   "metadata": {},
   "outputs": [],
   "source": [
    "class_names = ['Benign','Malignant']\n",
    "report = classification_report(test_generator.classes, y_pred,target_names=class_names, output_dict=True)\n",
    "df = pd.DataFrame(report).transpose()\n",
    "df_ = df[['precision', 'recall','f1-score']]\n",
    "df_ = df_.loc[[\"Benign\", \"Malignant\",\"macro avg\"]]\n",
    "df_.to_csv('dados_fetuga_vgg19.csv')\n",
    "df_.head(10)"
   ]
  },
  {
   "cell_type": "code",
   "execution_count": null,
   "metadata": {},
   "outputs": [],
   "source": [
    "from sklearn.metrics import confusion_matrix, accuracy_score\n",
    "import seaborn as sns\n",
    "\n",
    "cm = confusion_matrix(test_generator.classes, y_pred)\n",
    "#cm = [[24,11],[1,34]]\n",
    "plt.figure(figsize=(5,5))\n",
    "x_axis_labels = ['Benign','Malignant'] # labels for x-axis\n",
    "y_axis_labels = ['Benign','Malignant'] # labels for y-axis\n",
    "ax = sns.heatmap(cm, annot=True, fmt=\"d\",xticklabels=x_axis_labels, yticklabels=y_axis_labels)\n",
    "sns.set(font_scale=1.8)\n",
    "plt.title('Confusion matrix RESNET50')\n",
    "plt.ylabel('Actual label')\n",
    "plt.xlabel('Predicted label')"
   ]
  },
  {
   "cell_type": "code",
   "execution_count": null,
   "metadata": {},
   "outputs": [],
   "source": []
  }
 ],
 "metadata": {
  "accelerator": "GPU",
  "colab": {
   "collapsed_sections": [],
   "provenance": []
  },
  "kernelspec": {
   "display_name": "Python 3 (ipykernel)",
   "language": "python",
   "name": "python3"
  },
  "language_info": {
   "codemirror_mode": {
    "name": "ipython",
    "version": 3
   },
   "file_extension": ".py",
   "mimetype": "text/x-python",
   "name": "python",
   "nbconvert_exporter": "python",
   "pygments_lexer": "ipython3",
   "version": "3.11.5"
  }
 },
 "nbformat": 4,
 "nbformat_minor": 1
}
