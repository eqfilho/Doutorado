{
 "cells": [
  {
   "cell_type": "code",
   "execution_count": null,
   "id": "79633319",
   "metadata": {},
   "outputs": [],
   "source": [
    "# import the needed packages\n",
    "\n",
    "import numpy as np\n",
    "import pandas as pd\n",
    "import matplotlib.pyplot as plt\n",
    "import seaborn as sns\n",
    "import plotly.express as px\n",
    "import plotly.graph_objects as go\n",
    "from plotly.subplots import make_subplots\n",
    "import os\n",
    "\n",
    "import matplotlib.image as img\n",
    "\n",
    "import tensorflow as tf\n",
    "from tensorflow import keras\n",
    "from tensorflow.keras import layers\n",
    "from tensorflow.keras.preprocessing import image\n",
    "from tensorflow.keras.applications.resnet50 import ResNet50\n",
    "from tensorflow.keras.applications import Xception\n",
    "from tensorflow.keras.models import Model\n",
    "from tensorflow.keras.layers import Dropout, Conv2D, MaxPool2D, Flatten, Dense\n",
    "from tensorflow.keras.metrics import Recall,AUC\n",
    "from tensorflow.keras.utils import plot_model\n",
    "from tensorflow.keras.callbacks import EarlyStopping, ReduceLROnPlateau\n",
    "\n",
    "from keras.applications.vgg19 import VGG19\n",
    "from keras.preprocessing.image import ImageDataGenerator\n",
    "from keras.layers import Flatten\n",
    "from keras.models import Sequential, Model\n",
    "from keras.layers import Activation, Dense, Dropout, Conv2D\n",
    "\n",
    "from sklearn.metrics import confusion_matrix, classification_report, accuracy_score\n",
    "\n",
    "from fast_ml.model_development import train_valid_test_split"
   ]
  },
  {
   "cell_type": "code",
   "execution_count": null,
   "id": "462d61c0",
   "metadata": {},
   "outputs": [],
   "source": [
    "# Caminhos de treino e validaçção\n",
    "\n",
    "# Obs - no diretório dados4 os dados estão separados em 75% treino 15% validação e 10% teste\n",
    "path_train = 'D:/Users/N30090/OneDrive - ArcelorMittal/Pictures/Doutorado_img/U-net/train/'\n",
    "path_val = 'D:/Users/N30090/OneDrive - ArcelorMittal/Pictures/Doutorado_img/U-net/val/'\n",
    "\n",
    "batch_size = 20"
   ]
  },
  {
   "cell_type": "code",
   "execution_count": null,
   "id": "acc177da",
   "metadata": {},
   "outputs": [],
   "source": [
    "# Gerando os dados a partir das imagens\n",
    "train_datagen = ImageDataGenerator(    \n",
    "    rotation_range = 90,\n",
    "    vertical_flip = True,\n",
    "    horizontal_flip = True,\n",
    "    zoom_range=0.05,\n",
    "    width_shift_range=0.2,\n",
    "    height_shift_range=0.2,\n",
    "    fill_mode = 'reflect',\n",
    "    samplewise_center = True,\n",
    "    samplewise_std_normalization = True\n",
    ")\n",
    "\n",
    "val_datagen = ImageDataGenerator(\n",
    "    samplewise_center = True,\n",
    "    samplewise_std_normalization = True\n",
    "    )\n",
    "\n",
    "\n",
    "test_datagen = ImageDataGenerator(\n",
    "    samplewise_center = True,\n",
    "    samplewise_std_normalization = True\n",
    "    )"
   ]
  },
  {
   "cell_type": "code",
   "execution_count": null,
   "id": "b7e70a3a",
   "metadata": {},
   "outputs": [],
   "source": [
    "# dados de treino\n",
    "train_generator = train_datagen.flow_from_directory(\n",
    "    path_train,\n",
    "    target_size = (256, 256),\n",
    "    batch_size= batch_size,\n",
    "    shuffle=True,\n",
    "    class_mode='categorical' \n",
    ")"
   ]
  },
  {
   "cell_type": "code",
   "execution_count": null,
   "id": "0c5a8095",
   "metadata": {},
   "outputs": [],
   "source": [
    "y_true = train_generator.classes\n",
    "y_true"
   ]
  },
  {
   "cell_type": "code",
   "execution_count": null,
   "id": "bd21ebbd",
   "metadata": {},
   "outputs": [],
   "source": [
    "#dados de validação\n",
    "val_generator = val_datagen.flow_from_directory(\n",
    "    path_val,\n",
    "    target_size = (256, 256),\n",
    "    batch_size= batch_size,  \n",
    "    shuffle=True,\n",
    "    class_mode='categorical'     \n",
    ")"
   ]
  },
  {
   "cell_type": "code",
   "execution_count": null,
   "id": "4a78adcb",
   "metadata": {},
   "outputs": [],
   "source": [
    "val_generator.classes"
   ]
  },
  {
   "cell_type": "code",
   "execution_count": null,
   "id": "ca8c0582",
   "metadata": {},
   "outputs": [],
   "source": [
    "early_stoppping = EarlyStopping(monitor='val_loss',\n",
    "                                patience=15,\n",
    "                                restore_best_weights=True)\n",
    "reduce_lr_on_plateau = ReduceLROnPlateau(monitor='val_loss',\n",
    "                                         factor=0.1,\n",
    "                                         patience=15)\n",
    "\n",
    "lr_schedule = keras.optimizers.schedules.CosineDecayRestarts(\n",
    "    initial_learning_rate = 0.01, \n",
    "    first_decay_steps = 500, \n",
    "    t_mul=2.4, \n",
    "    m_mul=1.3, \n",
    "    alpha=0.001, \n",
    "    name=None\n",
    ")\n",
    "\n",
    "xception = Xception(include_top = False,input_shape = (256,256,3))\n",
    "input_to_model = xception.input\n",
    "#turn off training\n",
    "xception.trainable = False\n",
    "\n",
    "x = Flatten()(xception.output)\n",
    "x = Dense(64,activation = 'relu')(x)\n",
    "output_to_model = Dense(2,activation = 'softmax')(x)\n",
    "model = Model(inputs = input_to_model,outputs = output_to_model)\n",
    "model.summary()"
   ]
  },
  {
   "cell_type": "code",
   "execution_count": null,
   "id": "0b64d1ca",
   "metadata": {},
   "outputs": [],
   "source": [
    "model.compile(optimizer = keras.optimizers.SGD(learning_rate=lr_schedule),\n",
    "              loss = 'categorical_crossentropy',\n",
    "              metrics = ['accuracy',Recall(),'AUC'])"
   ]
  },
  {
   "cell_type": "code",
   "execution_count": null,
   "id": "d7c61e91",
   "metadata": {},
   "outputs": [],
   "source": [
    "history = model.fit(x = train_generator,\n",
    "                    batch_size=len(train_generator),\n",
    "                    epochs=25,\n",
    "                    callbacks = [early_stoppping,reduce_lr_on_plateau],\n",
    "                    validation_data = val_generator)"
   ]
  },
  {
   "cell_type": "code",
   "execution_count": null,
   "id": "bb306787",
   "metadata": {},
   "outputs": [],
   "source": [
    "# list all data in history\n",
    "print(history.history.keys())\n",
    "# summarize history for accuracy\n",
    "plt.plot(history.history['accuracy'])\n",
    "plt.plot(history.history['val_accuracy'])\n",
    "plt.title('Model accuracy')\n",
    "plt.ylabel('accuracy')\n",
    "plt.xlabel('epoch')\n",
    "plt.legend(['train', 'validation'], loc='upper left')\n",
    "plt.show()\n",
    "\n",
    "# summarize history for auc\n",
    "plt.plot(history.history['auc'])\n",
    "plt.plot(history.history['val_auc'])\n",
    "plt.title('Model auc')\n",
    "plt.ylabel('auc')\n",
    "plt.xlabel('epoch')\n",
    "plt.legend(['train', 'validation'], loc='upper left')\n",
    "plt.show()\n",
    "\n",
    "# summarize history for loss\n",
    "plt.plot(history.history['loss'])\n",
    "plt.plot(history.history['val_loss'])\n",
    "plt.title('Model loss')\n",
    "plt.ylabel('loss')\n",
    "plt.xlabel('epoch')\n",
    "plt.legend(['train', 'validation'], loc='upper left')\n",
    "plt.show()"
   ]
  },
  {
   "cell_type": "code",
   "execution_count": null,
   "id": "4d3719aa",
   "metadata": {},
   "outputs": [],
   "source": [
    "#dados de teste\n",
    "path_test = 'D:/Users/N30090/OneDrive - ArcelorMittal/Pictures/Doutorado_img/U-net/test/'\n",
    "test_generator =  test_datagen.flow_from_directory(\n",
    "    path_test,\n",
    "    target_size = (256, 256),\n",
    "    shuffle = False,\n",
    "    batch_size= batch_size,\n",
    "    class_mode='categorical' \n",
    "    \n",
    "    )"
   ]
  },
  {
   "cell_type": "code",
   "execution_count": null,
   "id": "d04a3276",
   "metadata": {},
   "outputs": [],
   "source": [
    "#Confution Matrix and Classification Report\n",
    "Y_pred = model.predict(test_generator)\n",
    "y_pred = np.argmax(Y_pred, axis=1)"
   ]
  },
  {
   "cell_type": "code",
   "execution_count": null,
   "id": "b3bb34d5",
   "metadata": {},
   "outputs": [],
   "source": [
    "print(classification_report(test_generator.classes, y_pred))"
   ]
  },
  {
   "cell_type": "code",
   "execution_count": null,
   "id": "502904f9",
   "metadata": {},
   "outputs": [],
   "source": [
    "class_names = ['Benign','Malignant']\n",
    "report = classification_report(test_generator.classes, y_pred,target_names=class_names, output_dict=True)\n",
    "df = pd.DataFrame(report).transpose()\n",
    "df_ = df[['precision', 'recall','f1-score']]\n",
    "df_ = df_.loc[[\"Benign\", \"Malignant\",\"macro avg\"]]\n",
    "df_.to_csv('U-net_Xception.csv')\n",
    "df_.head(10)"
   ]
  },
  {
   "cell_type": "code",
   "execution_count": null,
   "id": "b6db6d9c",
   "metadata": {},
   "outputs": [],
   "source": [
    "cm = confusion_matrix(test_generator.classes, y_pred)\n",
    "#cm = [[24,11],[1,34]]\n",
    "plt.figure(figsize=(5,5))\n",
    "x_axis_labels = ['Benign','Malignant'] # labels for x-axis\n",
    "y_axis_labels = ['Benign','Malignant'] # labels for y-axis\n",
    "ax = sns.heatmap(cm, annot=True, fmt=\"d\",xticklabels=x_axis_labels, yticklabels=y_axis_labels)\n",
    "sns.set(font_scale=1.8)\n",
    "plt.title('Confusion matrix Xception')\n",
    "plt.ylabel('Actual label')\n",
    "plt.xlabel('Predicted label')"
   ]
  },
  {
   "cell_type": "code",
   "execution_count": null,
   "id": "2f4ca321",
   "metadata": {},
   "outputs": [],
   "source": []
  }
 ],
 "metadata": {
  "kernelspec": {
   "display_name": "Python 3 (ipykernel)",
   "language": "python",
   "name": "python3"
  },
  "language_info": {
   "codemirror_mode": {
    "name": "ipython",
    "version": 3
   },
   "file_extension": ".py",
   "mimetype": "text/x-python",
   "name": "python",
   "nbconvert_exporter": "python",
   "pygments_lexer": "ipython3",
   "version": "3.11.5"
  }
 },
 "nbformat": 4,
 "nbformat_minor": 5
}
