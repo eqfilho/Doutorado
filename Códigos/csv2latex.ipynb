{
 "cells": [
  {
   "cell_type": "code",
   "execution_count": 1,
   "id": "0fb6b570",
   "metadata": {
    "scrolled": false
   },
   "outputs": [
    {
     "name": "stdout",
     "output_type": "stream",
     "text": [
      "                                        Method  precision    recall  f1-score\n",
      "2   dados_aimonino_original_watershed_Xception   0.905836  0.897059  0.896499\n",
      "2        dados_lunadei_original_lloyd_Xception   0.897403  0.897059  0.897037\n",
      "2        dados_aimonino_original_otsu_Xception   0.895349  0.867647  0.865287\n",
      "2         dados_lunadei_original_otsu_Xception   0.894643  0.882353  0.881430\n",
      "2                      dados_aimonino_Xception   0.887719  0.882353  0.881944\n",
      "2       dados_aimonino_original_lloyd_Xception   0.886364  0.852941  0.849691\n",
      "2                        dados_fetuga_resnet50   0.870532  0.867647  0.867389\n",
      "2                         dados_aimonino_vgg19   0.864286  0.852941  0.851787\n",
      "2                       dados_lunadei_Xception   0.864286  0.852941  0.851787\n",
      "2                          dados_lunadei_vgg19   0.857895  0.852941  0.852431\n",
      "2                  dados_lunadei_unet_resnet50   0.845712  0.838235  0.837356\n",
      "2        dados_fetuga_original_watershed_vgg19   0.833333  0.750000  0.733333\n",
      "2                    dados_original_unet_vgg19   0.828070  0.823529  0.822917\n",
      "2    dados_lunadei_original_watershed_Xception   0.826923  0.735294  0.715349\n",
      "2           dados_lunadei_original_lloyd_vgg19   0.824653  0.823529  0.823377\n",
      "2                      dados_fetuga_unet_vgg19   0.823529  0.823529  0.823529\n",
      "2     dados_fetuga_original_watershed_Xception   0.820755  0.720588  0.696927\n",
      "2                 dados_aimonino_unet_Xception   0.811355  0.794118  0.791228\n",
      "2  dados_aimonino+fetuga+lunadei_unet_resnet50   0.811247  0.808824  0.808451\n",
      "2                    dados_aimonino_unet_vgg19   0.798246  0.794118  0.793403\n",
      "2        dados_aimonino_original_otsu_resnet50   0.795139  0.794118  0.793939\n",
      "2                 dados_aimonino_unet_resnet50   0.791780  0.779412  0.777049\n",
      "2     dados_aimonino+fetuga+lunadei_unet_vgg19   0.785588  0.779412  0.778213\n",
      "2         dados_fetuga_original_lloyd_Xception   0.783333  0.617647  0.552178\n",
      "2       dados_aimonino_original_lloyd_resnet50   0.779654  0.779412  0.779364\n",
      "2      dados_aimonino_original_watershed_vgg19   0.779654  0.779412  0.779364\n",
      "2            dados_lunadei_original_otsu_vgg19   0.773214  0.764706  0.762860\n",
      "2                 dados_original_unet_resnet50   0.773214  0.764706  0.762860\n",
      "2          dados_aimonino_original_lloyd_vgg19   0.768421  0.764706  0.763889\n",
      "2       dados_lunadei_original_watershed_vgg19   0.765625  0.764706  0.764502\n",
      "2                      dados_aimonino_resnet50   0.764706  0.764706  0.764706\n",
      "2           dados_aimonino_original_otsu_vgg19   0.761066  0.750000  0.747322\n",
      "2                 dados_original_unet_Xception   0.761066  0.750000  0.747322\n",
      "2         dados_fetuga_original_lloyd_resnet50   0.750216  0.750000  0.749946\n",
      "2  dados_aimonino+fetuga+lunadei_unet_Xception   0.742857  0.735294  0.733217\n",
      "2                     dados_lunadei_unet_vgg19   0.738596  0.735294  0.734375\n",
      "2                  dados_lunadei_unet_Xception   0.726667  0.676471  0.657509\n",
      "2     dados_fetuga_original_watershed_resnet50   0.717949  0.705882  0.701754\n",
      "2         dados_lunadei_original_otsu_resnet50   0.712500  0.705882  0.703575\n",
      "2        dados_lunadei_original_lloyd_resnet50   0.706597  0.705882  0.705628\n",
      "2            dados_fetuga_original_lloyd_vgg19   0.704327  0.647059  0.620465\n",
      "2   dados_aimonino_original_watershed_resnet50   0.700859  0.661765  0.644465\n",
      "2             dados_fetuga_original_otsu_vgg19   0.699639  0.691176  0.687869\n",
      "2                   dados_fetuga_unet_resnet50   0.692677  0.691176  0.690574\n",
      "2          dados_fetuga_original_otsu_resnet50   0.689463  0.661765  0.648934\n",
      "2    dados_lunadei_original_watershed_resnet50   0.668925  0.661765  0.658142\n",
      "2                   dados_fetuga_unet_Xception   0.624542  0.617647  0.612281\n",
      "2                           dados_fetuga_vgg19   0.564151  0.544118  0.505513\n",
      "2                        dados_fetuga_Xception   0.554780  0.544118  0.520800\n",
      "2          dados_fetuga_original_otsu_Xception   0.535417  0.529412  0.508582\n",
      "2                       dados_lunadei_resnet50   0.467803  0.470588  0.458886\n"
     ]
    }
   ],
   "source": [
    "import pandas as pd\n",
    "import glob, os\n",
    "\n",
    "# Get CSV files list from a folder\n",
    "path = 'D:/Users/N30090/OneDrive/UFES-Elétrica/Implementação Browning Index/Artigo/'\n",
    "csv_files = glob.glob(path + \"*.csv\")\n",
    "\n",
    "#Concatena csv incluindo uma coluna com o nome do arquivo\n",
    "df = pd.concat([pd.read_csv(fp).assign(Method=os.path.basename(fp).split('.')[0]) for fp in csv_files])\n",
    "df = df.loc[[2]]\n",
    "first_column = df.pop('Method')\n",
    "df.insert(0, 'Method', first_column)\n",
    "df.drop(df.columns[[1]], axis = 1,inplace=True)\n",
    "\n",
    "results = df.sort_values(by=['precision', 'recall','f1-score'],ascending=False)\n",
    "print(results)\n",
    "\n",
    "results.to_csv('results.csv',index=False)\n",
    "\n",
    "results.to_latex(\"TableResults.tex\",index=False)"
   ]
  },
  {
   "cell_type": "code",
   "execution_count": null,
   "id": "bd524b88",
   "metadata": {},
   "outputs": [],
   "source": []
  }
 ],
 "metadata": {
  "kernelspec": {
   "display_name": "Python 3 (ipykernel)",
   "language": "python",
   "name": "python3"
  },
  "language_info": {
   "codemirror_mode": {
    "name": "ipython",
    "version": 3
   },
   "file_extension": ".py",
   "mimetype": "text/x-python",
   "name": "python",
   "nbconvert_exporter": "python",
   "pygments_lexer": "ipython3",
   "version": "3.11.5"
  }
 },
 "nbformat": 4,
 "nbformat_minor": 5
}
